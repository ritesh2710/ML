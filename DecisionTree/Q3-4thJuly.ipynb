{
 "cells": [
  {
   "cell_type": "markdown",
   "id": "bf7a0674",
   "metadata": {},
   "source": [
    "### Question # 3\n",
    "\n",
    "What is the entropy of the following set: R = {a,a,a,b,b,b,b,b}"
   ]
  },
  {
   "cell_type": "code",
   "execution_count": 13,
   "id": "f2d5f6f0",
   "metadata": {},
   "outputs": [
    {
     "data": {
      "text/plain": [
       "0.954434002924965"
      ]
     },
     "execution_count": 13,
     "metadata": {},
     "output_type": "execute_result"
    }
   ],
   "source": [
    "R = ['a','a','a','b','b','b','b','b']\n",
    "\n",
    "from collections import Counter\n",
    "from scipy import stats\n",
    "\n",
    "stats.entropy(list(Counter(R).values()), base=2)"
   ]
  }
 ],
 "metadata": {
  "kernelspec": {
   "display_name": "Python 3 (ipykernel)",
   "language": "python",
   "name": "python3"
  },
  "language_info": {
   "codemirror_mode": {
    "name": "ipython",
    "version": 3
   },
   "file_extension": ".py",
   "mimetype": "text/x-python",
   "name": "python",
   "nbconvert_exporter": "python",
   "pygments_lexer": "ipython3",
   "version": "3.9.7"
  }
 },
 "nbformat": 4,
 "nbformat_minor": 5
}
