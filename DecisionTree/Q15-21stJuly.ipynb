{
 "cells": [
  {
   "cell_type": "markdown",
   "id": "52aec546",
   "metadata": {},
   "source": [
    "The average starting salary of MBA graduates in US is provided in the file 08_MBA_Starting_Salary.xlsx.\n",
    "Link: https://drive.google.com/drive/folders/1Jl8iDu7nGmrqCECbrLqmVafgwE5PYfiU\n",
    "\n",
    "Use the variables below to predict the Avg Starting salary:\n",
    "\n",
    "Type  \n",
    "Enrollment  \n",
    "Avg GMAT  \n",
    "Resident Tuition, Fees  \n",
    "Pct International  \n",
    "Pct Female  \n",
    "Pct Asian American  \n",
    "Pct Minority  \n",
    "Pct with job offers\n",
    "\n",
    "1) Train a Decision tree by dropping  the rows with missing values \n",
    "\n",
    "2) Impute the missing values in each column using KNN imputer, and then train a model \n",
    "\n",
    "3) Compare the score of both the above models.  Use 5 fold CV score in both cases, with same model hyper-parameters (depth, etc)"
   ]
  },
  {
   "cell_type": "code",
   "execution_count": 1,
   "id": "81e1c501",
   "metadata": {},
   "outputs": [],
   "source": [
    "import numpy as np\n",
    "import pandas as pd\n",
    "\n",
    "from sklearn.tree import DecisionTreeRegressor\n",
    "from sklearn.model_selection import GridSearchCV, train_test_split\n",
    "from sklearn.impute import KNNImputer\n",
    "from sklearn.metrics import mean_squared_error\n",
    "import matplotlib.pyplot as plt\n",
    "import statsmodels.api as sm\n",
    "\n",
    "import warnings\n",
    "warnings.filterwarnings(\"ignore\")"
   ]
  },
  {
   "cell_type": "code",
   "execution_count": 2,
   "id": "6c01ce25",
   "metadata": {},
   "outputs": [
    {
     "data": {
      "text/html": [
       "<div>\n",
       "<style scoped>\n",
       "    .dataframe tbody tr th:only-of-type {\n",
       "        vertical-align: middle;\n",
       "    }\n",
       "\n",
       "    .dataframe tbody tr th {\n",
       "        vertical-align: top;\n",
       "    }\n",
       "\n",
       "    .dataframe thead th {\n",
       "        text-align: right;\n",
       "    }\n",
       "</style>\n",
       "<table border=\"1\" class=\"dataframe\">\n",
       "  <thead>\n",
       "    <tr style=\"text-align: right;\">\n",
       "      <th></th>\n",
       "      <th>Fulltime Business Week Ranking</th>\n",
       "      <th>School Name</th>\n",
       "      <th>State</th>\n",
       "      <th>Type</th>\n",
       "      <th>Enrollment</th>\n",
       "      <th>Avg GMAT</th>\n",
       "      <th>Resident Tuition, Fees</th>\n",
       "      <th>Pct International</th>\n",
       "      <th>Pct Female</th>\n",
       "      <th>Pct Asian American</th>\n",
       "      <th>Pct Minority</th>\n",
       "      <th>Pct with job offers</th>\n",
       "      <th>Avg starting base salary</th>\n",
       "    </tr>\n",
       "  </thead>\n",
       "  <tbody>\n",
       "    <tr>\n",
       "      <th>0</th>\n",
       "      <td>1</td>\n",
       "      <td>University of Chicago</td>\n",
       "      <td>Illinois</td>\n",
       "      <td>Private</td>\n",
       "      <td>1144</td>\n",
       "      <td>713.0</td>\n",
       "      <td>97165.0</td>\n",
       "      <td>35.0</td>\n",
       "      <td>35.0</td>\n",
       "      <td>16.0</td>\n",
       "      <td>7.0</td>\n",
       "      <td>92.0</td>\n",
       "      <td>107091.0</td>\n",
       "    </tr>\n",
       "    <tr>\n",
       "      <th>1</th>\n",
       "      <td>2</td>\n",
       "      <td>Harvard University</td>\n",
       "      <td>Massachusetts</td>\n",
       "      <td>Private</td>\n",
       "      <td>1801</td>\n",
       "      <td>720.0</td>\n",
       "      <td>101660.0</td>\n",
       "      <td>33.0</td>\n",
       "      <td>38.0</td>\n",
       "      <td>NaN</td>\n",
       "      <td>NaN</td>\n",
       "      <td>94.0</td>\n",
       "      <td>124378.0</td>\n",
       "    </tr>\n",
       "    <tr>\n",
       "      <th>2</th>\n",
       "      <td>3</td>\n",
       "      <td>Northwestern University</td>\n",
       "      <td>Illinois</td>\n",
       "      <td>Private</td>\n",
       "      <td>1200</td>\n",
       "      <td>711.0</td>\n",
       "      <td>93918.0</td>\n",
       "      <td>34.0</td>\n",
       "      <td>36.0</td>\n",
       "      <td>25.0</td>\n",
       "      <td>13.0</td>\n",
       "      <td>95.0</td>\n",
       "      <td>108064.0</td>\n",
       "    </tr>\n",
       "    <tr>\n",
       "      <th>3</th>\n",
       "      <td>4</td>\n",
       "      <td>University of Pennsylvania</td>\n",
       "      <td>Pennsylvania</td>\n",
       "      <td>Private</td>\n",
       "      <td>1651</td>\n",
       "      <td>714.0</td>\n",
       "      <td>104410.0</td>\n",
       "      <td>44.0</td>\n",
       "      <td>36.0</td>\n",
       "      <td>7.8</td>\n",
       "      <td>9.0</td>\n",
       "      <td>89.0</td>\n",
       "      <td>112186.0</td>\n",
       "    </tr>\n",
       "    <tr>\n",
       "      <th>4</th>\n",
       "      <td>5</td>\n",
       "      <td>University of Michigan</td>\n",
       "      <td>Michigan</td>\n",
       "      <td>Public</td>\n",
       "      <td>898</td>\n",
       "      <td>706.0</td>\n",
       "      <td>80879.0</td>\n",
       "      <td>27.0</td>\n",
       "      <td>34.0</td>\n",
       "      <td>21.0</td>\n",
       "      <td>13.0</td>\n",
       "      <td>89.0</td>\n",
       "      <td>103608.0</td>\n",
       "    </tr>\n",
       "  </tbody>\n",
       "</table>\n",
       "</div>"
      ],
      "text/plain": [
       "  Fulltime Business Week Ranking                 School Name          State  \\\n",
       "0                              1       University of Chicago       Illinois   \n",
       "1                              2          Harvard University  Massachusetts   \n",
       "2                              3     Northwestern University       Illinois   \n",
       "3                              4  University of Pennsylvania   Pennsylvania   \n",
       "4                              5      University of Michigan       Michigan   \n",
       "\n",
       "      Type  Enrollment  Avg GMAT  Resident Tuition, Fees  Pct International  \\\n",
       "0  Private        1144     713.0                 97165.0               35.0   \n",
       "1  Private        1801     720.0                101660.0               33.0   \n",
       "2  Private        1200     711.0                 93918.0               34.0   \n",
       "3  Private        1651     714.0                104410.0               44.0   \n",
       "4   Public         898     706.0                 80879.0               27.0   \n",
       "\n",
       "   Pct Female  Pct Asian American  Pct Minority  Pct with job offers  \\\n",
       "0        35.0                16.0           7.0                 92.0   \n",
       "1        38.0                 NaN           NaN                 94.0   \n",
       "2        36.0                25.0          13.0                 95.0   \n",
       "3        36.0                 7.8           9.0                 89.0   \n",
       "4        34.0                21.0          13.0                 89.0   \n",
       "\n",
       "   Avg starting base salary  \n",
       "0                  107091.0  \n",
       "1                  124378.0  \n",
       "2                  108064.0  \n",
       "3                  112186.0  \n",
       "4                  103608.0  "
      ]
     },
     "execution_count": 2,
     "metadata": {},
     "output_type": "execute_result"
    }
   ],
   "source": [
    "# Read and display the data file\n",
    "df = pd.read_excel('/Users/riteshturlapaty/ai-ml-learning/AccelerateAI/7.DecisionTree/DailyQuiz/08_MBA_Starting_Salary.xlsx',sheet_name='MBA Data')\n",
    "df.head(5)"
   ]
  },
  {
   "cell_type": "code",
   "execution_count": 3,
   "id": "4102a4df",
   "metadata": {},
   "outputs": [
    {
     "data": {
      "text/plain": [
       "Index(['Fulltime Business Week Ranking', 'School Name', 'State', 'Type',\n",
       "       'Enrollment', 'Avg GMAT', 'Resident Tuition, Fees', 'Pct International',\n",
       "       'Pct Female', 'Pct Asian American', 'Pct Minority',\n",
       "       'Pct with job offers', 'Avg starting base salary'],\n",
       "      dtype='object')"
      ]
     },
     "execution_count": 3,
     "metadata": {},
     "output_type": "execute_result"
    }
   ],
   "source": [
    "# list out the columns\n",
    "df.columns"
   ]
  },
  {
   "cell_type": "code",
   "execution_count": 4,
   "id": "1532408a",
   "metadata": {},
   "outputs": [
    {
     "data": {
      "text/plain": [
       "Fulltime Business Week Ranking    0\n",
       "School Name                       0\n",
       "State                             0\n",
       "Type                              0\n",
       "Enrollment                        0\n",
       "Avg GMAT                          3\n",
       "Resident Tuition, Fees            2\n",
       "Pct International                 2\n",
       "Pct Female                        2\n",
       "Pct Asian American                7\n",
       "Pct Minority                      4\n",
       "Pct with job offers               3\n",
       "Avg starting base salary          3\n",
       "dtype: int64"
      ]
     },
     "execution_count": 4,
     "metadata": {},
     "output_type": "execute_result"
    }
   ],
   "source": [
    "df.isnull().sum()"
   ]
  },
  {
   "cell_type": "code",
   "execution_count": 5,
   "id": "7889c1b1",
   "metadata": {},
   "outputs": [],
   "source": [
    "# Create list of variables based on which prediction needs to be done\n",
    "pred_var_list=['Type',\n",
    "               'Enrollment', \n",
    "               'Avg GMAT', \n",
    "               'Resident Tuition, Fees',  \n",
    "               'Pct International',\n",
    "               'Pct Female', \n",
    "               'Pct Asian American', \n",
    "               'Pct Minority',\n",
    "               'Avg starting base salary']\n",
    "\n",
    "target='Avg starting base salary'"
   ]
  },
  {
   "cell_type": "markdown",
   "id": "4be84a79",
   "metadata": {},
   "source": [
    "# 1) Train a Decision tree by dropping the rows with missing values"
   ]
  },
  {
   "cell_type": "code",
   "execution_count": 6,
   "id": "e887e1a3",
   "metadata": {},
   "outputs": [],
   "source": [
    "df1=df"
   ]
  },
  {
   "cell_type": "code",
   "execution_count": 7,
   "id": "5b1260b4",
   "metadata": {},
   "outputs": [],
   "source": [
    "# Create dummy values for categorical variables\n",
    "df_model = df1[pred_var_list]\n",
    "df_model = pd.get_dummies(df_model, columns=['Type'])"
   ]
  },
  {
   "cell_type": "code",
   "execution_count": 8,
   "id": "dad77b15",
   "metadata": {},
   "outputs": [
    {
     "name": "stdout",
     "output_type": "stream",
     "text": [
      "Original shape:  (70, 10)\n",
      "Shape after pruning missing values rows:  (61, 10)\n"
     ]
    }
   ],
   "source": [
    "# Remove the rows with missing values\n",
    "data_model_1=df_model.dropna()\n",
    "\n",
    "# Compare the shape of the models\n",
    "print('Original shape: ',df_model.shape)\n",
    "print('Shape after pruning missing values rows: ',data_model_1.shape)"
   ]
  },
  {
   "cell_type": "code",
   "execution_count": 9,
   "id": "6d35e2bd",
   "metadata": {},
   "outputs": [
    {
     "data": {
      "text/html": [
       "<div>\n",
       "<style scoped>\n",
       "    .dataframe tbody tr th:only-of-type {\n",
       "        vertical-align: middle;\n",
       "    }\n",
       "\n",
       "    .dataframe tbody tr th {\n",
       "        vertical-align: top;\n",
       "    }\n",
       "\n",
       "    .dataframe thead th {\n",
       "        text-align: right;\n",
       "    }\n",
       "</style>\n",
       "<table border=\"1\" class=\"dataframe\">\n",
       "  <thead>\n",
       "    <tr style=\"text-align: right;\">\n",
       "      <th></th>\n",
       "      <th>Enrollment</th>\n",
       "      <th>Avg GMAT</th>\n",
       "      <th>Resident Tuition, Fees</th>\n",
       "      <th>Pct International</th>\n",
       "      <th>Pct Female</th>\n",
       "      <th>Pct Asian American</th>\n",
       "      <th>Pct Minority</th>\n",
       "      <th>Avg starting base salary</th>\n",
       "      <th>Type_Private</th>\n",
       "      <th>Type_Public</th>\n",
       "    </tr>\n",
       "  </thead>\n",
       "  <tbody>\n",
       "    <tr>\n",
       "      <th>38</th>\n",
       "      <td>293</td>\n",
       "      <td>662.0</td>\n",
       "      <td>37700.0</td>\n",
       "      <td>45.0</td>\n",
       "      <td>27.0</td>\n",
       "      <td>13.0</td>\n",
       "      <td>6.0</td>\n",
       "      <td>83614.0</td>\n",
       "      <td>0</td>\n",
       "      <td>1</td>\n",
       "    </tr>\n",
       "    <tr>\n",
       "      <th>2</th>\n",
       "      <td>1200</td>\n",
       "      <td>711.0</td>\n",
       "      <td>93918.0</td>\n",
       "      <td>34.0</td>\n",
       "      <td>36.0</td>\n",
       "      <td>25.0</td>\n",
       "      <td>13.0</td>\n",
       "      <td>108064.0</td>\n",
       "      <td>1</td>\n",
       "      <td>0</td>\n",
       "    </tr>\n",
       "  </tbody>\n",
       "</table>\n",
       "</div>"
      ],
      "text/plain": [
       "    Enrollment  Avg GMAT  Resident Tuition, Fees  Pct International  \\\n",
       "38         293     662.0                 37700.0               45.0   \n",
       "2         1200     711.0                 93918.0               34.0   \n",
       "\n",
       "    Pct Female  Pct Asian American  Pct Minority  Avg starting base salary  \\\n",
       "38        27.0                13.0           6.0                   83614.0   \n",
       "2         36.0                25.0          13.0                  108064.0   \n",
       "\n",
       "    Type_Private  Type_Public  \n",
       "38             0            1  \n",
       "2              1            0  "
      ]
     },
     "execution_count": 9,
     "metadata": {},
     "output_type": "execute_result"
    }
   ],
   "source": [
    "data_model_1.sample(2)"
   ]
  },
  {
   "cell_type": "code",
   "execution_count": 10,
   "id": "3be58d51",
   "metadata": {},
   "outputs": [],
   "source": [
    "new_pred_var_list=data_model_1.columns"
   ]
  },
  {
   "cell_type": "code",
   "execution_count": 11,
   "id": "ae91d4b2",
   "metadata": {},
   "outputs": [
    {
     "data": {
      "text/plain": [
       "GridSearchCV(cv=5, estimator=DecisionTreeRegressor(random_state=1),\n",
       "             param_grid={'max_depth': range(1, 20),\n",
       "                         'min_samples_leaf': range(1, 20),\n",
       "                         'min_samples_split': range(1, 20)})"
      ]
     },
     "execution_count": 11,
     "metadata": {},
     "output_type": "execute_result"
    }
   ],
   "source": [
    "# Setup model\n",
    "# Tune the parameters\n",
    "\n",
    "tune_parm_space = {'min_samples_split':range(1, 20),\n",
    "                   'max_depth':range(1, 20),\n",
    "                   'min_samples_leaf':range(1, 20)\n",
    "                  }\n",
    "\n",
    "tree_reg_model = DecisionTreeRegressor(random_state=1)\n",
    "tree_reg_model_cv_1 = GridSearchCV(tree_reg_model, tune_parm_space, cv=5)\n",
    "tree_reg_model_cv_1.fit(data_model_1[new_pred_var_list], data_model_1[target])"
   ]
  },
  {
   "cell_type": "code",
   "execution_count": 12,
   "id": "56223e52",
   "metadata": {},
   "outputs": [
    {
     "data": {
      "text/plain": [
       "{'max_depth': 5, 'min_samples_leaf': 2, 'min_samples_split': 2}"
      ]
     },
     "execution_count": 12,
     "metadata": {},
     "output_type": "execute_result"
    }
   ],
   "source": [
    "tree_reg_model_cv_1.best_params_"
   ]
  },
  {
   "cell_type": "markdown",
   "id": "f5e9b81c",
   "metadata": {},
   "source": [
    "# 2) Impute the missing values in each column using KNN imputer, and then train a model"
   ]
  },
  {
   "cell_type": "code",
   "execution_count": 13,
   "id": "037235fa",
   "metadata": {},
   "outputs": [],
   "source": [
    "# Assign to a new data frame in order to create two different models and compare them\n",
    "df2=df"
   ]
  },
  {
   "cell_type": "code",
   "execution_count": 14,
   "id": "8aa9fa5b",
   "metadata": {},
   "outputs": [
    {
     "data": {
      "text/html": [
       "<div>\n",
       "<style scoped>\n",
       "    .dataframe tbody tr th:only-of-type {\n",
       "        vertical-align: middle;\n",
       "    }\n",
       "\n",
       "    .dataframe tbody tr th {\n",
       "        vertical-align: top;\n",
       "    }\n",
       "\n",
       "    .dataframe thead th {\n",
       "        text-align: right;\n",
       "    }\n",
       "</style>\n",
       "<table border=\"1\" class=\"dataframe\">\n",
       "  <thead>\n",
       "    <tr style=\"text-align: right;\">\n",
       "      <th></th>\n",
       "      <th>Enrollment</th>\n",
       "      <th>Avg GMAT</th>\n",
       "      <th>Resident Tuition, Fees</th>\n",
       "      <th>Pct International</th>\n",
       "      <th>Pct Female</th>\n",
       "      <th>Pct Asian American</th>\n",
       "      <th>Pct Minority</th>\n",
       "      <th>Avg starting base salary</th>\n",
       "      <th>Type_Private</th>\n",
       "      <th>Type_Public</th>\n",
       "    </tr>\n",
       "  </thead>\n",
       "  <tbody>\n",
       "    <tr>\n",
       "      <th>0</th>\n",
       "      <td>1144</td>\n",
       "      <td>713.0</td>\n",
       "      <td>97165.0</td>\n",
       "      <td>35.0</td>\n",
       "      <td>35.0</td>\n",
       "      <td>16.0</td>\n",
       "      <td>7.0</td>\n",
       "      <td>107091.0</td>\n",
       "      <td>1</td>\n",
       "      <td>0</td>\n",
       "    </tr>\n",
       "    <tr>\n",
       "      <th>1</th>\n",
       "      <td>1801</td>\n",
       "      <td>720.0</td>\n",
       "      <td>101660.0</td>\n",
       "      <td>33.0</td>\n",
       "      <td>38.0</td>\n",
       "      <td>NaN</td>\n",
       "      <td>NaN</td>\n",
       "      <td>124378.0</td>\n",
       "      <td>1</td>\n",
       "      <td>0</td>\n",
       "    </tr>\n",
       "  </tbody>\n",
       "</table>\n",
       "</div>"
      ],
      "text/plain": [
       "   Enrollment  Avg GMAT  Resident Tuition, Fees  Pct International  \\\n",
       "0        1144     713.0                 97165.0               35.0   \n",
       "1        1801     720.0                101660.0               33.0   \n",
       "\n",
       "   Pct Female  Pct Asian American  Pct Minority  Avg starting base salary  \\\n",
       "0        35.0                16.0           7.0                  107091.0   \n",
       "1        38.0                 NaN           NaN                  124378.0   \n",
       "\n",
       "   Type_Private  Type_Public  \n",
       "0             1            0  \n",
       "1             1            0  "
      ]
     },
     "execution_count": 14,
     "metadata": {},
     "output_type": "execute_result"
    }
   ],
   "source": [
    "df_model.head(2)"
   ]
  },
  {
   "cell_type": "code",
   "execution_count": 15,
   "id": "4d1ddac2",
   "metadata": {},
   "outputs": [
    {
     "name": "stdout",
     "output_type": "stream",
     "text": [
      "(70, 10)\n"
     ]
    }
   ],
   "source": [
    "# 2. Use knn imputer for treating missing values\n",
    "df_feed_knn=df_model\n",
    "imputer = KNNImputer(n_neighbors=2)\n",
    "df_knn = imputer.fit_transform(df_feed_knn)\n",
    "data_model_2 = pd.DataFrame(df_knn, columns=new_pred_var_list)\n",
    "data_model_2[target] = df_model[target]\n",
    "print(data_model_2.shape)"
   ]
  },
  {
   "cell_type": "code",
   "execution_count": 16,
   "id": "1c156d46",
   "metadata": {},
   "outputs": [
    {
     "data": {
      "text/html": [
       "<div>\n",
       "<style scoped>\n",
       "    .dataframe tbody tr th:only-of-type {\n",
       "        vertical-align: middle;\n",
       "    }\n",
       "\n",
       "    .dataframe tbody tr th {\n",
       "        vertical-align: top;\n",
       "    }\n",
       "\n",
       "    .dataframe thead th {\n",
       "        text-align: right;\n",
       "    }\n",
       "</style>\n",
       "<table border=\"1\" class=\"dataframe\">\n",
       "  <thead>\n",
       "    <tr style=\"text-align: right;\">\n",
       "      <th></th>\n",
       "      <th>Enrollment</th>\n",
       "      <th>Avg GMAT</th>\n",
       "      <th>Resident Tuition, Fees</th>\n",
       "      <th>Pct International</th>\n",
       "      <th>Pct Female</th>\n",
       "      <th>Pct Asian American</th>\n",
       "      <th>Pct Minority</th>\n",
       "      <th>Avg starting base salary</th>\n",
       "      <th>Type_Private</th>\n",
       "      <th>Type_Public</th>\n",
       "    </tr>\n",
       "  </thead>\n",
       "  <tbody>\n",
       "    <tr>\n",
       "      <th>0</th>\n",
       "      <td>1144.0</td>\n",
       "      <td>713.0</td>\n",
       "      <td>97165.0</td>\n",
       "      <td>35.0</td>\n",
       "      <td>35.0</td>\n",
       "      <td>16.0</td>\n",
       "      <td>7.0</td>\n",
       "      <td>107091.0</td>\n",
       "      <td>1.0</td>\n",
       "      <td>0.0</td>\n",
       "    </tr>\n",
       "    <tr>\n",
       "      <th>1</th>\n",
       "      <td>1801.0</td>\n",
       "      <td>720.0</td>\n",
       "      <td>101660.0</td>\n",
       "      <td>33.0</td>\n",
       "      <td>38.0</td>\n",
       "      <td>7.9</td>\n",
       "      <td>11.0</td>\n",
       "      <td>124378.0</td>\n",
       "      <td>1.0</td>\n",
       "      <td>0.0</td>\n",
       "    </tr>\n",
       "  </tbody>\n",
       "</table>\n",
       "</div>"
      ],
      "text/plain": [
       "   Enrollment  Avg GMAT  Resident Tuition, Fees  Pct International  \\\n",
       "0      1144.0     713.0                 97165.0               35.0   \n",
       "1      1801.0     720.0                101660.0               33.0   \n",
       "\n",
       "   Pct Female  Pct Asian American  Pct Minority  Avg starting base salary  \\\n",
       "0        35.0                16.0           7.0                  107091.0   \n",
       "1        38.0                 7.9          11.0                  124378.0   \n",
       "\n",
       "   Type_Private  Type_Public  \n",
       "0           1.0          0.0  \n",
       "1           1.0          0.0  "
      ]
     },
     "execution_count": 16,
     "metadata": {},
     "output_type": "execute_result"
    }
   ],
   "source": [
    "data_model_2.head(2)"
   ]
  },
  {
   "cell_type": "code",
   "execution_count": 18,
   "id": "9610412e",
   "metadata": {},
   "outputs": [
    {
     "data": {
      "text/plain": [
       "(67, 10)"
      ]
     },
     "execution_count": 18,
     "metadata": {},
     "output_type": "execute_result"
    }
   ],
   "source": [
    "# remove rows, where target variable is missing\n",
    "df_knn_imputed = data_model_2[~ data_model_2['Avg starting base salary'].isnull()]\n",
    "df_knn_imputed.shape"
   ]
  },
  {
   "cell_type": "code",
   "execution_count": 23,
   "id": "a63eae2e",
   "metadata": {},
   "outputs": [
    {
     "data": {
      "text/html": [
       "<div>\n",
       "<style scoped>\n",
       "    .dataframe tbody tr th:only-of-type {\n",
       "        vertical-align: middle;\n",
       "    }\n",
       "\n",
       "    .dataframe tbody tr th {\n",
       "        vertical-align: top;\n",
       "    }\n",
       "\n",
       "    .dataframe thead th {\n",
       "        text-align: right;\n",
       "    }\n",
       "</style>\n",
       "<table border=\"1\" class=\"dataframe\">\n",
       "  <thead>\n",
       "    <tr style=\"text-align: right;\">\n",
       "      <th></th>\n",
       "      <th>Enrollment</th>\n",
       "      <th>Avg GMAT</th>\n",
       "      <th>Resident Tuition, Fees</th>\n",
       "      <th>Pct International</th>\n",
       "      <th>Pct Female</th>\n",
       "      <th>Pct Asian American</th>\n",
       "      <th>Pct Minority</th>\n",
       "      <th>Avg starting base salary</th>\n",
       "      <th>Type_Private</th>\n",
       "      <th>Type_Public</th>\n",
       "    </tr>\n",
       "  </thead>\n",
       "  <tbody>\n",
       "    <tr>\n",
       "      <th>0</th>\n",
       "      <td>1144.0</td>\n",
       "      <td>713.0</td>\n",
       "      <td>97165.0</td>\n",
       "      <td>35.0</td>\n",
       "      <td>35.0</td>\n",
       "      <td>16.0</td>\n",
       "      <td>7.0</td>\n",
       "      <td>107091.0</td>\n",
       "      <td>1.0</td>\n",
       "      <td>0.0</td>\n",
       "    </tr>\n",
       "    <tr>\n",
       "      <th>1</th>\n",
       "      <td>1801.0</td>\n",
       "      <td>720.0</td>\n",
       "      <td>101660.0</td>\n",
       "      <td>33.0</td>\n",
       "      <td>38.0</td>\n",
       "      <td>7.9</td>\n",
       "      <td>11.0</td>\n",
       "      <td>124378.0</td>\n",
       "      <td>1.0</td>\n",
       "      <td>0.0</td>\n",
       "    </tr>\n",
       "  </tbody>\n",
       "</table>\n",
       "</div>"
      ],
      "text/plain": [
       "   Enrollment  Avg GMAT  Resident Tuition, Fees  Pct International  \\\n",
       "0      1144.0     713.0                 97165.0               35.0   \n",
       "1      1801.0     720.0                101660.0               33.0   \n",
       "\n",
       "   Pct Female  Pct Asian American  Pct Minority  Avg starting base salary  \\\n",
       "0        35.0                16.0           7.0                  107091.0   \n",
       "1        38.0                 7.9          11.0                  124378.0   \n",
       "\n",
       "   Type_Private  Type_Public  \n",
       "0           1.0          0.0  \n",
       "1           1.0          0.0  "
      ]
     },
     "execution_count": 23,
     "metadata": {},
     "output_type": "execute_result"
    }
   ],
   "source": [
    "df_knn_imputed.head(2)"
   ]
  },
  {
   "cell_type": "code",
   "execution_count": 24,
   "id": "56e01785",
   "metadata": {},
   "outputs": [
    {
     "data": {
      "text/plain": [
       "Enrollment                  False\n",
       "Avg GMAT                    False\n",
       "Resident Tuition, Fees      False\n",
       "Pct International           False\n",
       "Pct Female                  False\n",
       "Pct Asian American          False\n",
       "Pct Minority                False\n",
       "Avg starting base salary    False\n",
       "Type_Private                False\n",
       "Type_Public                 False\n",
       "dtype: bool"
      ]
     },
     "execution_count": 24,
     "metadata": {},
     "output_type": "execute_result"
    }
   ],
   "source": [
    "df_knn_imputed.isna().any()"
   ]
  },
  {
   "cell_type": "code",
   "execution_count": 25,
   "id": "587525ca",
   "metadata": {},
   "outputs": [
    {
     "data": {
      "text/plain": [
       "GridSearchCV(cv=5, estimator=DecisionTreeRegressor(random_state=1),\n",
       "             param_grid={'max_depth': range(1, 20),\n",
       "                         'min_samples_leaf': range(1, 20),\n",
       "                         'min_samples_split': range(1, 20)})"
      ]
     },
     "execution_count": 25,
     "metadata": {},
     "output_type": "execute_result"
    }
   ],
   "source": [
    "tune_parm_space = {'min_samples_split':range(1, 20),\n",
    "                   'max_depth':range(1, 20),\n",
    "                   'min_samples_leaf':range(1, 20)\n",
    "                  }\n",
    "\n",
    "tree_reg_model = DecisionTreeRegressor(random_state=1)\n",
    "tree_reg_model_cv_2 = GridSearchCV(tree_reg_model, tune_parm_space, cv=5)\n",
    "tree_reg_model_cv_2.fit(df_knn_imputed[new_pred_var_list], df_knn_imputed[target])"
   ]
  },
  {
   "cell_type": "code",
   "execution_count": 26,
   "id": "868ea2f3",
   "metadata": {},
   "outputs": [
    {
     "data": {
      "text/plain": [
       "{'max_depth': 5, 'min_samples_leaf': 2, 'min_samples_split': 2}"
      ]
     },
     "execution_count": 26,
     "metadata": {},
     "output_type": "execute_result"
    }
   ],
   "source": [
    "tree_reg_model_cv_1.best_params_"
   ]
  },
  {
   "cell_type": "code",
   "execution_count": 30,
   "id": "95c1c1b0",
   "metadata": {},
   "outputs": [
    {
     "name": "stdout",
     "output_type": "stream",
     "text": [
      "Model 1 R square is 96.22 and RMSE is 2965.76\n",
      "Model 2 R square is 99.86 and RMSE is 605.24\n"
     ]
    }
   ],
   "source": [
    "score_1 = tree_reg_model_cv_1.score(data_model_1[new_pred_var_list], data_model_1[target])\n",
    "score_2 = tree_reg_model_cv_2.score(df_knn_imputed[new_pred_var_list], df_knn_imputed[target])\n",
    "\n",
    "rmse_1 = mean_squared_error(data_model_1[target], tree_reg_model_cv_1.predict(data_model_1[new_pred_var_list]), squared=False)\n",
    "rmse_2 = mean_squared_error(df_knn_imputed[target], tree_reg_model_cv_2.predict(df_knn_imputed[new_pred_var_list]), squared=False)\n",
    "\n",
    "print(f\"Model 1 R square is {np.round(score_1 * 100, 2)} and RMSE is {np.round(rmse_1, 2)}\")\n",
    "print(f\"Model 2 R square is {np.round(score_2 * 100, 2)} and RMSE is {np.round(rmse_2, 2)}\")"
   ]
  },
  {
   "cell_type": "markdown",
   "id": "96ea4edf",
   "metadata": {},
   "source": [
    "# Summary\n",
    "\n",
    "1. For Model 1, R sqaure is 96.22 while RMSE is 2965.76\n",
    "2. For Model 2, R sqaure is 99.86 while RMSE is 605.24. It is in model 2 where we used KNN Imputer.\n",
    "3. Model parameter for both the models is {'max_depth': 5, 'min_samples_leaf': 2, 'min_samples_split': 2}\n",
    "4. As evident, there is marginal improvement in Model 2 when compared to Model 1"
   ]
  }
 ],
 "metadata": {
  "kernelspec": {
   "display_name": "Python 3 (ipykernel)",
   "language": "python",
   "name": "python3"
  },
  "language_info": {
   "codemirror_mode": {
    "name": "ipython",
    "version": 3
   },
   "file_extension": ".py",
   "mimetype": "text/x-python",
   "name": "python",
   "nbconvert_exporter": "python",
   "pygments_lexer": "ipython3",
   "version": "3.9.7"
  }
 },
 "nbformat": 4,
 "nbformat_minor": 5
}
