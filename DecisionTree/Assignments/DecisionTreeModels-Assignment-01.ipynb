{
 "cells": [
  {
   "cell_type": "markdown",
   "id": "638d9a9d",
   "metadata": {},
   "source": [
    "### Assignment 01 - Classification using Decision Tree\n",
    "\n",
    "Consider the dataset Assignment01_Lasagna_Triers.csv.\n",
    "File location: https://drive.google.com/drive/folders/1Jl8iDu7nGmrqCECbrLqmVafgwE5PYfiU\n",
    "\n",
    "The file contains details of people in an area who have either tried Lasagna or not in an Italian restaurant chain. \n",
    "Train a decision tree classifier using the given data to predict whether someone has tried Lasagna or not.\n",
    "Use a 80/20 split for train/test. \n",
    "\n",
    "1) What is the train and test accuracy score?\n",
    "\n",
    "2) Which features come out to be important?\n",
    "\n",
    "3) Does grouping 'age' and 'income' into 5 categories each, improve the  prediction score? "
   ]
  },
  {
   "cell_type": "code",
   "execution_count": 1,
   "id": "a6e4130e",
   "metadata": {},
   "outputs": [],
   "source": [
    "import numpy as np\n",
    "import pandas as pd\n",
    "from sklearn.tree import DecisionTreeClassifier\n",
    "from sklearn.model_selection import train_test_split\n",
    "from sklearn.model_selection import GridSearchCV\n",
    "\n",
    "from sklearn import tree\n",
    "pd.set_option('display.max_columns', None)\n",
    "\n",
    "import warnings\n",
    "warnings.filterwarnings(\"ignore\")"
   ]
  },
  {
   "cell_type": "code",
   "execution_count": 2,
   "id": "436f1db4",
   "metadata": {},
   "outputs": [
    {
     "data": {
      "text/html": [
       "<div>\n",
       "<style scoped>\n",
       "    .dataframe tbody tr th:only-of-type {\n",
       "        vertical-align: middle;\n",
       "    }\n",
       "\n",
       "    .dataframe tbody tr th {\n",
       "        vertical-align: top;\n",
       "    }\n",
       "\n",
       "    .dataframe thead th {\n",
       "        text-align: right;\n",
       "    }\n",
       "</style>\n",
       "<table border=\"1\" class=\"dataframe\">\n",
       "  <thead>\n",
       "    <tr style=\"text-align: right;\">\n",
       "      <th></th>\n",
       "      <th>Person</th>\n",
       "      <th>Age</th>\n",
       "      <th>Weight</th>\n",
       "      <th>Income</th>\n",
       "      <th>Pay Type</th>\n",
       "      <th>Car Value</th>\n",
       "      <th>CC Debt</th>\n",
       "      <th>Gender</th>\n",
       "      <th>Live Alone</th>\n",
       "      <th>Dwell Type</th>\n",
       "      <th>Mall Trips</th>\n",
       "      <th>Nbhd</th>\n",
       "      <th>Have Tried</th>\n",
       "    </tr>\n",
       "  </thead>\n",
       "  <tbody>\n",
       "    <tr>\n",
       "      <th>0</th>\n",
       "      <td>1</td>\n",
       "      <td>48</td>\n",
       "      <td>175</td>\n",
       "      <td>65500</td>\n",
       "      <td>Hourly</td>\n",
       "      <td>2190</td>\n",
       "      <td>3510</td>\n",
       "      <td>Male</td>\n",
       "      <td>No</td>\n",
       "      <td>Home</td>\n",
       "      <td>7</td>\n",
       "      <td>East</td>\n",
       "      <td>No</td>\n",
       "    </tr>\n",
       "    <tr>\n",
       "      <th>1</th>\n",
       "      <td>2</td>\n",
       "      <td>33</td>\n",
       "      <td>202</td>\n",
       "      <td>29100</td>\n",
       "      <td>Hourly</td>\n",
       "      <td>2110</td>\n",
       "      <td>740</td>\n",
       "      <td>Female</td>\n",
       "      <td>No</td>\n",
       "      <td>Condo</td>\n",
       "      <td>4</td>\n",
       "      <td>East</td>\n",
       "      <td>Yes</td>\n",
       "    </tr>\n",
       "    <tr>\n",
       "      <th>2</th>\n",
       "      <td>3</td>\n",
       "      <td>51</td>\n",
       "      <td>188</td>\n",
       "      <td>32200</td>\n",
       "      <td>Salaried</td>\n",
       "      <td>5140</td>\n",
       "      <td>910</td>\n",
       "      <td>Male</td>\n",
       "      <td>No</td>\n",
       "      <td>Condo</td>\n",
       "      <td>1</td>\n",
       "      <td>East</td>\n",
       "      <td>No</td>\n",
       "    </tr>\n",
       "    <tr>\n",
       "      <th>3</th>\n",
       "      <td>4</td>\n",
       "      <td>56</td>\n",
       "      <td>244</td>\n",
       "      <td>19000</td>\n",
       "      <td>Hourly</td>\n",
       "      <td>700</td>\n",
       "      <td>1620</td>\n",
       "      <td>Female</td>\n",
       "      <td>No</td>\n",
       "      <td>Home</td>\n",
       "      <td>3</td>\n",
       "      <td>West</td>\n",
       "      <td>No</td>\n",
       "    </tr>\n",
       "    <tr>\n",
       "      <th>4</th>\n",
       "      <td>5</td>\n",
       "      <td>28</td>\n",
       "      <td>218</td>\n",
       "      <td>81400</td>\n",
       "      <td>Salaried</td>\n",
       "      <td>26620</td>\n",
       "      <td>600</td>\n",
       "      <td>Male</td>\n",
       "      <td>No</td>\n",
       "      <td>Apt</td>\n",
       "      <td>3</td>\n",
       "      <td>West</td>\n",
       "      <td>Yes</td>\n",
       "    </tr>\n",
       "  </tbody>\n",
       "</table>\n",
       "</div>"
      ],
      "text/plain": [
       "   Person  Age  Weight  Income  Pay Type  Car Value  CC Debt  Gender  \\\n",
       "0       1   48     175   65500    Hourly       2190     3510    Male   \n",
       "1       2   33     202   29100    Hourly       2110      740  Female   \n",
       "2       3   51     188   32200  Salaried       5140      910    Male   \n",
       "3       4   56     244   19000    Hourly        700     1620  Female   \n",
       "4       5   28     218   81400  Salaried      26620      600    Male   \n",
       "\n",
       "  Live Alone Dwell Type  Mall Trips  Nbhd Have Tried  \n",
       "0         No       Home           7  East         No  \n",
       "1         No      Condo           4  East        Yes  \n",
       "2         No      Condo           1  East         No  \n",
       "3         No       Home           3  West         No  \n",
       "4         No        Apt           3  West        Yes  "
      ]
     },
     "execution_count": 2,
     "metadata": {},
     "output_type": "execute_result"
    }
   ],
   "source": [
    "# Read and display the data file\n",
    "df = pd.read_excel('/Users/riteshturlapaty/ai-ml-learning/AccelerateAI/7.DecisionTree/Assignments/Assignment01.xlsx')\n",
    "lasagna_triers=df\n",
    "lasagna_triers.head(5)"
   ]
  },
  {
   "cell_type": "code",
   "execution_count": 3,
   "id": "1a49a1d9",
   "metadata": {},
   "outputs": [],
   "source": [
    "# Decision tree case score\n",
    "df_case_score = pd.DataFrame(columns=['Case', 'Score'])"
   ]
  },
  {
   "cell_type": "code",
   "execution_count": 4,
   "id": "be0361ce",
   "metadata": {},
   "outputs": [
    {
     "data": {
      "text/plain": [
       "(856, 13)"
      ]
     },
     "execution_count": 4,
     "metadata": {},
     "output_type": "execute_result"
    }
   ],
   "source": [
    "lasagna_triers.shape"
   ]
  },
  {
   "cell_type": "code",
   "execution_count": 5,
   "id": "97a964e6",
   "metadata": {},
   "outputs": [
    {
     "name": "stdout",
     "output_type": "stream",
     "text": [
      "<class 'pandas.core.frame.DataFrame'>\n",
      "RangeIndex: 856 entries, 0 to 855\n",
      "Data columns (total 13 columns):\n",
      " #   Column      Non-Null Count  Dtype \n",
      "---  ------      --------------  ----- \n",
      " 0   Person      856 non-null    int64 \n",
      " 1   Age         856 non-null    int64 \n",
      " 2   Weight      856 non-null    int64 \n",
      " 3   Income      856 non-null    int64 \n",
      " 4   Pay Type    856 non-null    object\n",
      " 5   Car Value   856 non-null    int64 \n",
      " 6   CC Debt     856 non-null    int64 \n",
      " 7   Gender      856 non-null    object\n",
      " 8   Live Alone  856 non-null    object\n",
      " 9   Dwell Type  856 non-null    object\n",
      " 10  Mall Trips  856 non-null    int64 \n",
      " 11  Nbhd        856 non-null    object\n",
      " 12  Have Tried  856 non-null    object\n",
      "dtypes: int64(7), object(6)\n",
      "memory usage: 87.1+ KB\n"
     ]
    }
   ],
   "source": [
    "lasagna_triers.info()"
   ]
  },
  {
   "cell_type": "code",
   "execution_count": 6,
   "id": "0d57519b",
   "metadata": {},
   "outputs": [],
   "source": [
    "# Segregate column names as per their datatype i.e this is to convert the values into numeric\n",
    "cat_var_list = lasagna_triers[['Pay Type','Gender','Live Alone','Dwell Type','Nbhd']]\n",
    "num_var_list = lasagna_triers[['Person','Age','Weight','Income','Car Value','CC Debt','Mall Trips']]\n",
    "target_list=lasagna_triers[['Have Tried']]"
   ]
  },
  {
   "cell_type": "code",
   "execution_count": 7,
   "id": "31402652",
   "metadata": {},
   "outputs": [],
   "source": [
    "# Create dummy values for columns where values are non-numeric\n",
    "cat_var_dummies=pd.get_dummies(cat_var_list)"
   ]
  },
  {
   "cell_type": "code",
   "execution_count": 8,
   "id": "baecf034",
   "metadata": {},
   "outputs": [
    {
     "data": {
      "text/plain": [
       "1    495\n",
       "0    361\n",
       "Name: Have Tried, dtype: int64"
      ]
     },
     "execution_count": 8,
     "metadata": {},
     "output_type": "execute_result"
    }
   ],
   "source": [
    "# Convert target variable values into numeric. Map the values\n",
    "target_list['Have Tried'] = target_list['Have Tried'].map({'Yes':1, 'No':0})\n",
    "\n",
    "# Check T\n",
    "target_list['Have Tried'].value_counts()"
   ]
  },
  {
   "cell_type": "code",
   "execution_count": 9,
   "id": "fc2e1ac1",
   "metadata": {},
   "outputs": [],
   "source": [
    "# Concatenate the categorical (dummies) and numerical list\n",
    "new_lasagna_triers = pd.concat([num_var_list,cat_var_dummies], axis=1)"
   ]
  },
  {
   "cell_type": "code",
   "execution_count": 10,
   "id": "fe286c8c",
   "metadata": {},
   "outputs": [
    {
     "data": {
      "text/html": [
       "<div>\n",
       "<style scoped>\n",
       "    .dataframe tbody tr th:only-of-type {\n",
       "        vertical-align: middle;\n",
       "    }\n",
       "\n",
       "    .dataframe tbody tr th {\n",
       "        vertical-align: top;\n",
       "    }\n",
       "\n",
       "    .dataframe thead th {\n",
       "        text-align: right;\n",
       "    }\n",
       "</style>\n",
       "<table border=\"1\" class=\"dataframe\">\n",
       "  <thead>\n",
       "    <tr style=\"text-align: right;\">\n",
       "      <th></th>\n",
       "      <th>Person</th>\n",
       "      <th>Age</th>\n",
       "      <th>Weight</th>\n",
       "      <th>Income</th>\n",
       "      <th>Car Value</th>\n",
       "      <th>CC Debt</th>\n",
       "      <th>Mall Trips</th>\n",
       "      <th>Pay Type_Hourly</th>\n",
       "      <th>Pay Type_Salaried</th>\n",
       "      <th>Gender_Female</th>\n",
       "      <th>Gender_Male</th>\n",
       "      <th>Live Alone_No</th>\n",
       "      <th>Live Alone_Yes</th>\n",
       "      <th>Dwell Type_Apt</th>\n",
       "      <th>Dwell Type_Condo</th>\n",
       "      <th>Dwell Type_Home</th>\n",
       "      <th>Nbhd_East</th>\n",
       "      <th>Nbhd_South</th>\n",
       "      <th>Nbhd_West</th>\n",
       "    </tr>\n",
       "  </thead>\n",
       "  <tbody>\n",
       "    <tr>\n",
       "      <th>0</th>\n",
       "      <td>1</td>\n",
       "      <td>48</td>\n",
       "      <td>175</td>\n",
       "      <td>65500</td>\n",
       "      <td>2190</td>\n",
       "      <td>3510</td>\n",
       "      <td>7</td>\n",
       "      <td>1</td>\n",
       "      <td>0</td>\n",
       "      <td>0</td>\n",
       "      <td>1</td>\n",
       "      <td>1</td>\n",
       "      <td>0</td>\n",
       "      <td>0</td>\n",
       "      <td>0</td>\n",
       "      <td>1</td>\n",
       "      <td>1</td>\n",
       "      <td>0</td>\n",
       "      <td>0</td>\n",
       "    </tr>\n",
       "    <tr>\n",
       "      <th>1</th>\n",
       "      <td>2</td>\n",
       "      <td>33</td>\n",
       "      <td>202</td>\n",
       "      <td>29100</td>\n",
       "      <td>2110</td>\n",
       "      <td>740</td>\n",
       "      <td>4</td>\n",
       "      <td>1</td>\n",
       "      <td>0</td>\n",
       "      <td>1</td>\n",
       "      <td>0</td>\n",
       "      <td>1</td>\n",
       "      <td>0</td>\n",
       "      <td>0</td>\n",
       "      <td>1</td>\n",
       "      <td>0</td>\n",
       "      <td>1</td>\n",
       "      <td>0</td>\n",
       "      <td>0</td>\n",
       "    </tr>\n",
       "  </tbody>\n",
       "</table>\n",
       "</div>"
      ],
      "text/plain": [
       "   Person  Age  Weight  Income  Car Value  CC Debt  Mall Trips  \\\n",
       "0       1   48     175   65500       2190     3510           7   \n",
       "1       2   33     202   29100       2110      740           4   \n",
       "\n",
       "   Pay Type_Hourly  Pay Type_Salaried  Gender_Female  Gender_Male  \\\n",
       "0                1                  0              0            1   \n",
       "1                1                  0              1            0   \n",
       "\n",
       "   Live Alone_No  Live Alone_Yes  Dwell Type_Apt  Dwell Type_Condo  \\\n",
       "0              1               0               0                 0   \n",
       "1              1               0               0                 1   \n",
       "\n",
       "   Dwell Type_Home  Nbhd_East  Nbhd_South  Nbhd_West  \n",
       "0                1          1           0          0  \n",
       "1                0          1           0          0  "
      ]
     },
     "execution_count": 10,
     "metadata": {},
     "output_type": "execute_result"
    }
   ],
   "source": [
    "new_lasagna_triers.head(2)"
   ]
  },
  {
   "cell_type": "code",
   "execution_count": 11,
   "id": "982244ec",
   "metadata": {},
   "outputs": [],
   "source": [
    "# Prepare X and y\n",
    "X=new_lasagna_triers\n",
    "y=target_list"
   ]
  },
  {
   "cell_type": "code",
   "execution_count": 12,
   "id": "3ba62099",
   "metadata": {},
   "outputs": [],
   "source": [
    "# Split data\n",
    "X_train, X_test, y_train, y_test = train_test_split(X, y, train_size=0.80, random_state=42)"
   ]
  },
  {
   "cell_type": "code",
   "execution_count": 13,
   "id": "953892f2",
   "metadata": {},
   "outputs": [],
   "source": [
    "clf = tree.DecisionTreeClassifier(criterion='gini')\n",
    "clf = clf.fit(X_train, y_train)"
   ]
  },
  {
   "cell_type": "code",
   "execution_count": 14,
   "id": "40ef3e0f",
   "metadata": {},
   "outputs": [
    {
     "name": "stdout",
     "output_type": "stream",
     "text": [
      "Test data score:  0.7790697674418605\n"
     ]
    }
   ],
   "source": [
    "# Predict on test data\n",
    "p_pred = clf.predict_proba(X_test)\n",
    "y_pred = clf.predict(X_test)\n",
    "\n",
    "score_ = clf.score(X_test, y_test)\n",
    "print(\"Test data score: \",score_)"
   ]
  },
  {
   "cell_type": "code",
   "execution_count": 15,
   "id": "42f762ce",
   "metadata": {},
   "outputs": [],
   "source": [
    "# Assign values of model score\n",
    "df_case_score.loc[len(df_case_score.index)] = [\"Model score without grouping of Age and Income\",score_]"
   ]
  },
  {
   "cell_type": "code",
   "execution_count": 16,
   "id": "7eda7683",
   "metadata": {},
   "outputs": [
    {
     "data": {
      "text/html": [
       "<div>\n",
       "<style scoped>\n",
       "    .dataframe tbody tr th:only-of-type {\n",
       "        vertical-align: middle;\n",
       "    }\n",
       "\n",
       "    .dataframe tbody tr th {\n",
       "        vertical-align: top;\n",
       "    }\n",
       "\n",
       "    .dataframe thead th {\n",
       "        text-align: right;\n",
       "    }\n",
       "</style>\n",
       "<table border=\"1\" class=\"dataframe\">\n",
       "  <thead>\n",
       "    <tr style=\"text-align: right;\">\n",
       "      <th></th>\n",
       "      <th>Case</th>\n",
       "      <th>Score</th>\n",
       "    </tr>\n",
       "  </thead>\n",
       "  <tbody>\n",
       "    <tr>\n",
       "      <th>0</th>\n",
       "      <td>Model score without grouping of Age and Income</td>\n",
       "      <td>0.77907</td>\n",
       "    </tr>\n",
       "  </tbody>\n",
       "</table>\n",
       "</div>"
      ],
      "text/plain": [
       "                                             Case    Score\n",
       "0  Model score without grouping of Age and Income  0.77907"
      ]
     },
     "execution_count": 16,
     "metadata": {},
     "output_type": "execute_result"
    }
   ],
   "source": [
    "df_case_score"
   ]
  },
  {
   "cell_type": "markdown",
   "id": "5107adbb",
   "metadata": {},
   "source": [
    "## 2) Which features come out to be important?"
   ]
  },
  {
   "cell_type": "code",
   "execution_count": 17,
   "id": "6998bda6",
   "metadata": {},
   "outputs": [
    {
     "data": {
      "text/plain": [
       "Mall Trips           0.343350\n",
       "Age                  0.114192\n",
       "Nbhd_West            0.092808\n",
       "Income               0.081247\n",
       "CC Debt              0.063862\n",
       "Person               0.058079\n",
       "Car Value            0.050476\n",
       "Pay Type_Hourly      0.044529\n",
       "Weight               0.037745\n",
       "Dwell Type_Condo     0.036685\n",
       "Nbhd_East            0.032088\n",
       "Live Alone_Yes       0.018445\n",
       "Nbhd_South           0.012268\n",
       "Gender_Female        0.011209\n",
       "Gender_Male          0.003017\n",
       "Pay Type_Salaried    0.000000\n",
       "Live Alone_No        0.000000\n",
       "Dwell Type_Apt       0.000000\n",
       "Dwell Type_Home      0.000000\n",
       "dtype: float64"
      ]
     },
     "execution_count": 17,
     "metadata": {},
     "output_type": "execute_result"
    }
   ],
   "source": [
    "# Feature importance\n",
    "feature_imp = pd.Series(clf.feature_importances_, index=X.columns)\n",
    "feature_imp.sort_values(ascending=False,inplace=True)\n",
    "feature_imp"
   ]
  },
  {
   "cell_type": "code",
   "execution_count": 18,
   "id": "1fa45ece",
   "metadata": {},
   "outputs": [
    {
     "data": {
      "text/plain": [
       "['Mall Trips', 'Age', 'Nbhd_West', 'Income', 'CC Debt']"
      ]
     },
     "execution_count": 18,
     "metadata": {},
     "output_type": "execute_result"
    }
   ],
   "source": [
    "# Top 5 features\n",
    "top5_features = list(feature_imp.index[:5])\n",
    "top5_features"
   ]
  },
  {
   "cell_type": "markdown",
   "id": "e93bbc05",
   "metadata": {},
   "source": [
    "## 3) Does grouping 'age' and 'income' into 5 categories each, improve the prediction score?"
   ]
  },
  {
   "cell_type": "code",
   "execution_count": 19,
   "id": "b48b8b0f",
   "metadata": {},
   "outputs": [
    {
     "data": {
      "text/html": [
       "<div>\n",
       "<style scoped>\n",
       "    .dataframe tbody tr th:only-of-type {\n",
       "        vertical-align: middle;\n",
       "    }\n",
       "\n",
       "    .dataframe tbody tr th {\n",
       "        vertical-align: top;\n",
       "    }\n",
       "\n",
       "    .dataframe thead th {\n",
       "        text-align: right;\n",
       "    }\n",
       "</style>\n",
       "<table border=\"1\" class=\"dataframe\">\n",
       "  <thead>\n",
       "    <tr style=\"text-align: right;\">\n",
       "      <th></th>\n",
       "      <th>Person</th>\n",
       "      <th>Age</th>\n",
       "      <th>Weight</th>\n",
       "      <th>Income</th>\n",
       "      <th>Pay Type</th>\n",
       "      <th>Car Value</th>\n",
       "      <th>CC Debt</th>\n",
       "      <th>Gender</th>\n",
       "      <th>Live Alone</th>\n",
       "      <th>Dwell Type</th>\n",
       "      <th>Mall Trips</th>\n",
       "      <th>Nbhd</th>\n",
       "      <th>Have Tried</th>\n",
       "    </tr>\n",
       "  </thead>\n",
       "  <tbody>\n",
       "    <tr>\n",
       "      <th>0</th>\n",
       "      <td>1</td>\n",
       "      <td>48</td>\n",
       "      <td>175</td>\n",
       "      <td>65500</td>\n",
       "      <td>Hourly</td>\n",
       "      <td>2190</td>\n",
       "      <td>3510</td>\n",
       "      <td>Male</td>\n",
       "      <td>No</td>\n",
       "      <td>Home</td>\n",
       "      <td>7</td>\n",
       "      <td>East</td>\n",
       "      <td>No</td>\n",
       "    </tr>\n",
       "    <tr>\n",
       "      <th>1</th>\n",
       "      <td>2</td>\n",
       "      <td>33</td>\n",
       "      <td>202</td>\n",
       "      <td>29100</td>\n",
       "      <td>Hourly</td>\n",
       "      <td>2110</td>\n",
       "      <td>740</td>\n",
       "      <td>Female</td>\n",
       "      <td>No</td>\n",
       "      <td>Condo</td>\n",
       "      <td>4</td>\n",
       "      <td>East</td>\n",
       "      <td>Yes</td>\n",
       "    </tr>\n",
       "  </tbody>\n",
       "</table>\n",
       "</div>"
      ],
      "text/plain": [
       "   Person  Age  Weight  Income Pay Type  Car Value  CC Debt  Gender  \\\n",
       "0       1   48     175   65500   Hourly       2190     3510    Male   \n",
       "1       2   33     202   29100   Hourly       2110      740  Female   \n",
       "\n",
       "  Live Alone Dwell Type  Mall Trips  Nbhd Have Tried  \n",
       "0         No       Home           7  East         No  \n",
       "1         No      Condo           4  East        Yes  "
      ]
     },
     "execution_count": 19,
     "metadata": {},
     "output_type": "execute_result"
    }
   ],
   "source": [
    "df_group_data=df\n",
    "df_group_data.head(2)"
   ]
  },
  {
   "cell_type": "code",
   "execution_count": 20,
   "id": "a544fa1d",
   "metadata": {},
   "outputs": [
    {
     "data": {
      "text/html": [
       "<div>\n",
       "<style scoped>\n",
       "    .dataframe tbody tr th:only-of-type {\n",
       "        vertical-align: middle;\n",
       "    }\n",
       "\n",
       "    .dataframe tbody tr th {\n",
       "        vertical-align: top;\n",
       "    }\n",
       "\n",
       "    .dataframe thead th {\n",
       "        text-align: right;\n",
       "    }\n",
       "</style>\n",
       "<table border=\"1\" class=\"dataframe\">\n",
       "  <thead>\n",
       "    <tr style=\"text-align: right;\">\n",
       "      <th></th>\n",
       "      <th>Age</th>\n",
       "    </tr>\n",
       "  </thead>\n",
       "  <tbody>\n",
       "    <tr>\n",
       "      <th>count</th>\n",
       "      <td>856.000000</td>\n",
       "    </tr>\n",
       "    <tr>\n",
       "      <th>mean</th>\n",
       "      <td>38.782710</td>\n",
       "    </tr>\n",
       "    <tr>\n",
       "      <th>std</th>\n",
       "      <td>9.610763</td>\n",
       "    </tr>\n",
       "    <tr>\n",
       "      <th>min</th>\n",
       "      <td>22.000000</td>\n",
       "    </tr>\n",
       "    <tr>\n",
       "      <th>25%</th>\n",
       "      <td>31.000000</td>\n",
       "    </tr>\n",
       "    <tr>\n",
       "      <th>50%</th>\n",
       "      <td>37.500000</td>\n",
       "    </tr>\n",
       "    <tr>\n",
       "      <th>75%</th>\n",
       "      <td>46.000000</td>\n",
       "    </tr>\n",
       "    <tr>\n",
       "      <th>max</th>\n",
       "      <td>64.000000</td>\n",
       "    </tr>\n",
       "  </tbody>\n",
       "</table>\n",
       "</div>"
      ],
      "text/plain": [
       "              Age\n",
       "count  856.000000\n",
       "mean    38.782710\n",
       "std      9.610763\n",
       "min     22.000000\n",
       "25%     31.000000\n",
       "50%     37.500000\n",
       "75%     46.000000\n",
       "max     64.000000"
      ]
     },
     "execution_count": 20,
     "metadata": {},
     "output_type": "execute_result"
    }
   ],
   "source": [
    "df_group_data[['Age']].describe()"
   ]
  },
  {
   "cell_type": "code",
   "execution_count": 21,
   "id": "ed938379",
   "metadata": {},
   "outputs": [
    {
     "data": {
      "text/html": [
       "<div>\n",
       "<style scoped>\n",
       "    .dataframe tbody tr th:only-of-type {\n",
       "        vertical-align: middle;\n",
       "    }\n",
       "\n",
       "    .dataframe tbody tr th {\n",
       "        vertical-align: top;\n",
       "    }\n",
       "\n",
       "    .dataframe thead th {\n",
       "        text-align: right;\n",
       "    }\n",
       "</style>\n",
       "<table border=\"1\" class=\"dataframe\">\n",
       "  <thead>\n",
       "    <tr style=\"text-align: right;\">\n",
       "      <th></th>\n",
       "      <th>Income</th>\n",
       "    </tr>\n",
       "  </thead>\n",
       "  <tbody>\n",
       "    <tr>\n",
       "      <th>count</th>\n",
       "      <td>856.000000</td>\n",
       "    </tr>\n",
       "    <tr>\n",
       "      <th>mean</th>\n",
       "      <td>45266.939252</td>\n",
       "    </tr>\n",
       "    <tr>\n",
       "      <th>std</th>\n",
       "      <td>28631.290583</td>\n",
       "    </tr>\n",
       "    <tr>\n",
       "      <th>min</th>\n",
       "      <td>2600.000000</td>\n",
       "    </tr>\n",
       "    <tr>\n",
       "      <th>25%</th>\n",
       "      <td>24475.000000</td>\n",
       "    </tr>\n",
       "    <tr>\n",
       "      <th>50%</th>\n",
       "      <td>39950.000000</td>\n",
       "    </tr>\n",
       "    <tr>\n",
       "      <th>75%</th>\n",
       "      <td>58225.000000</td>\n",
       "    </tr>\n",
       "    <tr>\n",
       "      <th>max</th>\n",
       "      <td>190500.000000</td>\n",
       "    </tr>\n",
       "  </tbody>\n",
       "</table>\n",
       "</div>"
      ],
      "text/plain": [
       "              Income\n",
       "count     856.000000\n",
       "mean    45266.939252\n",
       "std     28631.290583\n",
       "min      2600.000000\n",
       "25%     24475.000000\n",
       "50%     39950.000000\n",
       "75%     58225.000000\n",
       "max    190500.000000"
      ]
     },
     "execution_count": 21,
     "metadata": {},
     "output_type": "execute_result"
    }
   ],
   "source": [
    "df_group_data[['Income']].describe()"
   ]
  },
  {
   "cell_type": "code",
   "execution_count": 22,
   "id": "79cd35cd",
   "metadata": {},
   "outputs": [],
   "source": [
    "# Create function to map age values\n",
    "def map_age(v_age):\n",
    "    if v_age>=20 and v_age<=30:\n",
    "        return_age=1\n",
    "    elif v_age>=31 and v_age<=40:\n",
    "        return_age=2\n",
    "    elif v_age>=41 and v_age<=50:\n",
    "        return_age=3\n",
    "    elif v_age>=51 and v_age<=60:\n",
    "        return_age=4\n",
    "    elif v_age>=61:\n",
    "        return_age=5\n",
    "    else:\n",
    "        return_age=6\n",
    "    return return_age"
   ]
  },
  {
   "cell_type": "code",
   "execution_count": 23,
   "id": "83b71725",
   "metadata": {},
   "outputs": [],
   "source": [
    "# Create function to map Income values\n",
    "def map_income(v_income):\n",
    "    if v_income>=0 and v_income<=40000:\n",
    "        return_income=1\n",
    "    elif v_income>=40001 and v_income<=80000:\n",
    "        return_income=2\n",
    "    elif v_income>=80001 and v_income<=120000:\n",
    "        return_income=3\n",
    "    elif v_income>=120001 and v_income<=160000:\n",
    "        return_income=4\n",
    "    elif v_income>=160001 and v_income<=200000:\n",
    "        return_income=5\n",
    "    elif v_income>=200001:\n",
    "        return_income=6\n",
    "    else:\n",
    "        return_income=7\n",
    "    return return_income"
   ]
  },
  {
   "cell_type": "code",
   "execution_count": 24,
   "id": "00b2905b",
   "metadata": {},
   "outputs": [
    {
     "name": "stdout",
     "output_type": "stream",
     "text": [
      "3\n"
     ]
    }
   ],
   "source": [
    "print(map_income(100000))"
   ]
  },
  {
   "cell_type": "code",
   "execution_count": 25,
   "id": "64f5a0e0",
   "metadata": {},
   "outputs": [
    {
     "data": {
      "text/plain": [
       "2    312\n",
       "3    219\n",
       "1    204\n",
       "4    110\n",
       "5     11\n",
       "Name: Age, dtype: int64"
      ]
     },
     "execution_count": 25,
     "metadata": {},
     "output_type": "execute_result"
    }
   ],
   "source": [
    "# Map Age data. After mapping, Age will become a categorical data\n",
    "df_group_data['Age'] = df_group_data['Age'].apply(lambda x: map_age(x))\n",
    "\n",
    "# Check T\n",
    "df_group_data['Age'].value_counts()"
   ]
  },
  {
   "cell_type": "code",
   "execution_count": 26,
   "id": "699ce265",
   "metadata": {},
   "outputs": [
    {
     "data": {
      "text/plain": [
       "1    430\n",
       "2    338\n",
       "3     62\n",
       "4     24\n",
       "5      2\n",
       "Name: Income, dtype: int64"
      ]
     },
     "execution_count": 26,
     "metadata": {},
     "output_type": "execute_result"
    }
   ],
   "source": [
    "# Map Income data. After mapping, Age will become a categorical data\n",
    "df_group_data['Income'] = df_group_data['Income'].apply(lambda x: map_income(x))\n",
    "\n",
    "# Check T\n",
    "df_group_data['Income'].value_counts()"
   ]
  },
  {
   "cell_type": "code",
   "execution_count": 27,
   "id": "4f1af385",
   "metadata": {},
   "outputs": [
    {
     "data": {
      "text/html": [
       "<div>\n",
       "<style scoped>\n",
       "    .dataframe tbody tr th:only-of-type {\n",
       "        vertical-align: middle;\n",
       "    }\n",
       "\n",
       "    .dataframe tbody tr th {\n",
       "        vertical-align: top;\n",
       "    }\n",
       "\n",
       "    .dataframe thead th {\n",
       "        text-align: right;\n",
       "    }\n",
       "</style>\n",
       "<table border=\"1\" class=\"dataframe\">\n",
       "  <thead>\n",
       "    <tr style=\"text-align: right;\">\n",
       "      <th></th>\n",
       "      <th>Person</th>\n",
       "      <th>Age</th>\n",
       "      <th>Weight</th>\n",
       "      <th>Income</th>\n",
       "      <th>Pay Type</th>\n",
       "      <th>Car Value</th>\n",
       "      <th>CC Debt</th>\n",
       "      <th>Gender</th>\n",
       "      <th>Live Alone</th>\n",
       "      <th>Dwell Type</th>\n",
       "      <th>Mall Trips</th>\n",
       "      <th>Nbhd</th>\n",
       "      <th>Have Tried</th>\n",
       "    </tr>\n",
       "  </thead>\n",
       "  <tbody>\n",
       "    <tr>\n",
       "      <th>0</th>\n",
       "      <td>1</td>\n",
       "      <td>3</td>\n",
       "      <td>175</td>\n",
       "      <td>2</td>\n",
       "      <td>Hourly</td>\n",
       "      <td>2190</td>\n",
       "      <td>3510</td>\n",
       "      <td>Male</td>\n",
       "      <td>No</td>\n",
       "      <td>Home</td>\n",
       "      <td>7</td>\n",
       "      <td>East</td>\n",
       "      <td>No</td>\n",
       "    </tr>\n",
       "    <tr>\n",
       "      <th>1</th>\n",
       "      <td>2</td>\n",
       "      <td>2</td>\n",
       "      <td>202</td>\n",
       "      <td>1</td>\n",
       "      <td>Hourly</td>\n",
       "      <td>2110</td>\n",
       "      <td>740</td>\n",
       "      <td>Female</td>\n",
       "      <td>No</td>\n",
       "      <td>Condo</td>\n",
       "      <td>4</td>\n",
       "      <td>East</td>\n",
       "      <td>Yes</td>\n",
       "    </tr>\n",
       "    <tr>\n",
       "      <th>2</th>\n",
       "      <td>3</td>\n",
       "      <td>4</td>\n",
       "      <td>188</td>\n",
       "      <td>1</td>\n",
       "      <td>Salaried</td>\n",
       "      <td>5140</td>\n",
       "      <td>910</td>\n",
       "      <td>Male</td>\n",
       "      <td>No</td>\n",
       "      <td>Condo</td>\n",
       "      <td>1</td>\n",
       "      <td>East</td>\n",
       "      <td>No</td>\n",
       "    </tr>\n",
       "    <tr>\n",
       "      <th>3</th>\n",
       "      <td>4</td>\n",
       "      <td>4</td>\n",
       "      <td>244</td>\n",
       "      <td>1</td>\n",
       "      <td>Hourly</td>\n",
       "      <td>700</td>\n",
       "      <td>1620</td>\n",
       "      <td>Female</td>\n",
       "      <td>No</td>\n",
       "      <td>Home</td>\n",
       "      <td>3</td>\n",
       "      <td>West</td>\n",
       "      <td>No</td>\n",
       "    </tr>\n",
       "    <tr>\n",
       "      <th>4</th>\n",
       "      <td>5</td>\n",
       "      <td>1</td>\n",
       "      <td>218</td>\n",
       "      <td>3</td>\n",
       "      <td>Salaried</td>\n",
       "      <td>26620</td>\n",
       "      <td>600</td>\n",
       "      <td>Male</td>\n",
       "      <td>No</td>\n",
       "      <td>Apt</td>\n",
       "      <td>3</td>\n",
       "      <td>West</td>\n",
       "      <td>Yes</td>\n",
       "    </tr>\n",
       "  </tbody>\n",
       "</table>\n",
       "</div>"
      ],
      "text/plain": [
       "   Person  Age  Weight  Income  Pay Type  Car Value  CC Debt  Gender  \\\n",
       "0       1    3     175       2    Hourly       2190     3510    Male   \n",
       "1       2    2     202       1    Hourly       2110      740  Female   \n",
       "2       3    4     188       1  Salaried       5140      910    Male   \n",
       "3       4    4     244       1    Hourly        700     1620  Female   \n",
       "4       5    1     218       3  Salaried      26620      600    Male   \n",
       "\n",
       "  Live Alone Dwell Type  Mall Trips  Nbhd Have Tried  \n",
       "0         No       Home           7  East         No  \n",
       "1         No      Condo           4  East        Yes  \n",
       "2         No      Condo           1  East         No  \n",
       "3         No       Home           3  West         No  \n",
       "4         No        Apt           3  West        Yes  "
      ]
     },
     "execution_count": 27,
     "metadata": {},
     "output_type": "execute_result"
    }
   ],
   "source": [
    "df_group_data.head()"
   ]
  },
  {
   "cell_type": "code",
   "execution_count": 28,
   "id": "f4feeda8",
   "metadata": {},
   "outputs": [],
   "source": [
    "# Lets convert A2 to float and A14 to int64\n",
    "lasagna_triers['Age'] = lasagna_triers['Age'].astype('object')\n",
    "lasagna_triers['Income'] = lasagna_triers['Income'].astype('object')"
   ]
  },
  {
   "cell_type": "code",
   "execution_count": 29,
   "id": "a206c714",
   "metadata": {},
   "outputs": [],
   "source": [
    "# Segregate column names as per their datatype i.e this is to convert the values into numeric\n",
    "cat_var_list = lasagna_triers[['Age','Income','Pay Type','Gender','Live Alone','Dwell Type','Nbhd']]\n",
    "num_var_list = lasagna_triers[['Person','Weight','Car Value','CC Debt','Mall Trips']]\n",
    "target_list=lasagna_triers[['Have Tried']]"
   ]
  },
  {
   "cell_type": "code",
   "execution_count": 30,
   "id": "f3f086c7",
   "metadata": {},
   "outputs": [],
   "source": [
    "# Create dummy values for columns where values are non-numeric\n",
    "cat_var_dummies=pd.get_dummies(cat_var_list)"
   ]
  },
  {
   "cell_type": "code",
   "execution_count": 31,
   "id": "494771a0",
   "metadata": {},
   "outputs": [
    {
     "data": {
      "text/html": [
       "<div>\n",
       "<style scoped>\n",
       "    .dataframe tbody tr th:only-of-type {\n",
       "        vertical-align: middle;\n",
       "    }\n",
       "\n",
       "    .dataframe tbody tr th {\n",
       "        vertical-align: top;\n",
       "    }\n",
       "\n",
       "    .dataframe thead th {\n",
       "        text-align: right;\n",
       "    }\n",
       "</style>\n",
       "<table border=\"1\" class=\"dataframe\">\n",
       "  <thead>\n",
       "    <tr style=\"text-align: right;\">\n",
       "      <th></th>\n",
       "      <th>Age_1</th>\n",
       "      <th>Age_2</th>\n",
       "      <th>Age_3</th>\n",
       "      <th>Age_4</th>\n",
       "      <th>Age_5</th>\n",
       "      <th>Income_1</th>\n",
       "      <th>Income_2</th>\n",
       "      <th>Income_3</th>\n",
       "      <th>Income_4</th>\n",
       "      <th>Income_5</th>\n",
       "      <th>Pay Type_Hourly</th>\n",
       "      <th>Pay Type_Salaried</th>\n",
       "      <th>Gender_Female</th>\n",
       "      <th>Gender_Male</th>\n",
       "      <th>Live Alone_No</th>\n",
       "      <th>Live Alone_Yes</th>\n",
       "      <th>Dwell Type_Apt</th>\n",
       "      <th>Dwell Type_Condo</th>\n",
       "      <th>Dwell Type_Home</th>\n",
       "      <th>Nbhd_East</th>\n",
       "      <th>Nbhd_South</th>\n",
       "      <th>Nbhd_West</th>\n",
       "    </tr>\n",
       "  </thead>\n",
       "  <tbody>\n",
       "    <tr>\n",
       "      <th>0</th>\n",
       "      <td>0</td>\n",
       "      <td>0</td>\n",
       "      <td>1</td>\n",
       "      <td>0</td>\n",
       "      <td>0</td>\n",
       "      <td>0</td>\n",
       "      <td>1</td>\n",
       "      <td>0</td>\n",
       "      <td>0</td>\n",
       "      <td>0</td>\n",
       "      <td>1</td>\n",
       "      <td>0</td>\n",
       "      <td>0</td>\n",
       "      <td>1</td>\n",
       "      <td>1</td>\n",
       "      <td>0</td>\n",
       "      <td>0</td>\n",
       "      <td>0</td>\n",
       "      <td>1</td>\n",
       "      <td>1</td>\n",
       "      <td>0</td>\n",
       "      <td>0</td>\n",
       "    </tr>\n",
       "    <tr>\n",
       "      <th>1</th>\n",
       "      <td>0</td>\n",
       "      <td>1</td>\n",
       "      <td>0</td>\n",
       "      <td>0</td>\n",
       "      <td>0</td>\n",
       "      <td>1</td>\n",
       "      <td>0</td>\n",
       "      <td>0</td>\n",
       "      <td>0</td>\n",
       "      <td>0</td>\n",
       "      <td>1</td>\n",
       "      <td>0</td>\n",
       "      <td>1</td>\n",
       "      <td>0</td>\n",
       "      <td>1</td>\n",
       "      <td>0</td>\n",
       "      <td>0</td>\n",
       "      <td>1</td>\n",
       "      <td>0</td>\n",
       "      <td>1</td>\n",
       "      <td>0</td>\n",
       "      <td>0</td>\n",
       "    </tr>\n",
       "    <tr>\n",
       "      <th>2</th>\n",
       "      <td>0</td>\n",
       "      <td>0</td>\n",
       "      <td>0</td>\n",
       "      <td>1</td>\n",
       "      <td>0</td>\n",
       "      <td>1</td>\n",
       "      <td>0</td>\n",
       "      <td>0</td>\n",
       "      <td>0</td>\n",
       "      <td>0</td>\n",
       "      <td>0</td>\n",
       "      <td>1</td>\n",
       "      <td>0</td>\n",
       "      <td>1</td>\n",
       "      <td>1</td>\n",
       "      <td>0</td>\n",
       "      <td>0</td>\n",
       "      <td>1</td>\n",
       "      <td>0</td>\n",
       "      <td>1</td>\n",
       "      <td>0</td>\n",
       "      <td>0</td>\n",
       "    </tr>\n",
       "    <tr>\n",
       "      <th>3</th>\n",
       "      <td>0</td>\n",
       "      <td>0</td>\n",
       "      <td>0</td>\n",
       "      <td>1</td>\n",
       "      <td>0</td>\n",
       "      <td>1</td>\n",
       "      <td>0</td>\n",
       "      <td>0</td>\n",
       "      <td>0</td>\n",
       "      <td>0</td>\n",
       "      <td>1</td>\n",
       "      <td>0</td>\n",
       "      <td>1</td>\n",
       "      <td>0</td>\n",
       "      <td>1</td>\n",
       "      <td>0</td>\n",
       "      <td>0</td>\n",
       "      <td>0</td>\n",
       "      <td>1</td>\n",
       "      <td>0</td>\n",
       "      <td>0</td>\n",
       "      <td>1</td>\n",
       "    </tr>\n",
       "    <tr>\n",
       "      <th>4</th>\n",
       "      <td>1</td>\n",
       "      <td>0</td>\n",
       "      <td>0</td>\n",
       "      <td>0</td>\n",
       "      <td>0</td>\n",
       "      <td>0</td>\n",
       "      <td>0</td>\n",
       "      <td>1</td>\n",
       "      <td>0</td>\n",
       "      <td>0</td>\n",
       "      <td>0</td>\n",
       "      <td>1</td>\n",
       "      <td>0</td>\n",
       "      <td>1</td>\n",
       "      <td>1</td>\n",
       "      <td>0</td>\n",
       "      <td>1</td>\n",
       "      <td>0</td>\n",
       "      <td>0</td>\n",
       "      <td>0</td>\n",
       "      <td>0</td>\n",
       "      <td>1</td>\n",
       "    </tr>\n",
       "  </tbody>\n",
       "</table>\n",
       "</div>"
      ],
      "text/plain": [
       "   Age_1  Age_2  Age_3  Age_4  Age_5  Income_1  Income_2  Income_3  Income_4  \\\n",
       "0      0      0      1      0      0         0         1         0         0   \n",
       "1      0      1      0      0      0         1         0         0         0   \n",
       "2      0      0      0      1      0         1         0         0         0   \n",
       "3      0      0      0      1      0         1         0         0         0   \n",
       "4      1      0      0      0      0         0         0         1         0   \n",
       "\n",
       "   Income_5  Pay Type_Hourly  Pay Type_Salaried  Gender_Female  Gender_Male  \\\n",
       "0         0                1                  0              0            1   \n",
       "1         0                1                  0              1            0   \n",
       "2         0                0                  1              0            1   \n",
       "3         0                1                  0              1            0   \n",
       "4         0                0                  1              0            1   \n",
       "\n",
       "   Live Alone_No  Live Alone_Yes  Dwell Type_Apt  Dwell Type_Condo  \\\n",
       "0              1               0               0                 0   \n",
       "1              1               0               0                 1   \n",
       "2              1               0               0                 1   \n",
       "3              1               0               0                 0   \n",
       "4              1               0               1                 0   \n",
       "\n",
       "   Dwell Type_Home  Nbhd_East  Nbhd_South  Nbhd_West  \n",
       "0                1          1           0          0  \n",
       "1                0          1           0          0  \n",
       "2                0          1           0          0  \n",
       "3                1          0           0          1  \n",
       "4                0          0           0          1  "
      ]
     },
     "execution_count": 31,
     "metadata": {},
     "output_type": "execute_result"
    }
   ],
   "source": [
    "cat_var_dummies.head(5)"
   ]
  },
  {
   "cell_type": "code",
   "execution_count": 32,
   "id": "6924f14c",
   "metadata": {},
   "outputs": [],
   "source": [
    "# Convert target variable values into numeric. Map the values\n",
    "target_list['Have Tried'] = target_list['Have Tried'].map({'Yes':1, 'No':0})"
   ]
  },
  {
   "cell_type": "code",
   "execution_count": 33,
   "id": "fd55dd30",
   "metadata": {},
   "outputs": [
    {
     "data": {
      "text/plain": [
       "1    495\n",
       "0    361\n",
       "Name: Have Tried, dtype: int64"
      ]
     },
     "execution_count": 33,
     "metadata": {},
     "output_type": "execute_result"
    }
   ],
   "source": [
    "# Check T\n",
    "target_list['Have Tried'].value_counts()"
   ]
  },
  {
   "cell_type": "code",
   "execution_count": 34,
   "id": "480a7153",
   "metadata": {},
   "outputs": [],
   "source": [
    "# Concatenate the categorical (dummies) and numerical list\n",
    "new_lasagna_triers = pd.concat([num_var_list,cat_var_dummies], axis=1)"
   ]
  },
  {
   "cell_type": "code",
   "execution_count": 35,
   "id": "0f2f5e58",
   "metadata": {},
   "outputs": [
    {
     "data": {
      "text/html": [
       "<div>\n",
       "<style scoped>\n",
       "    .dataframe tbody tr th:only-of-type {\n",
       "        vertical-align: middle;\n",
       "    }\n",
       "\n",
       "    .dataframe tbody tr th {\n",
       "        vertical-align: top;\n",
       "    }\n",
       "\n",
       "    .dataframe thead th {\n",
       "        text-align: right;\n",
       "    }\n",
       "</style>\n",
       "<table border=\"1\" class=\"dataframe\">\n",
       "  <thead>\n",
       "    <tr style=\"text-align: right;\">\n",
       "      <th></th>\n",
       "      <th>Person</th>\n",
       "      <th>Weight</th>\n",
       "      <th>Car Value</th>\n",
       "      <th>CC Debt</th>\n",
       "      <th>Mall Trips</th>\n",
       "      <th>Age_1</th>\n",
       "      <th>Age_2</th>\n",
       "      <th>Age_3</th>\n",
       "      <th>Age_4</th>\n",
       "      <th>Age_5</th>\n",
       "      <th>Income_1</th>\n",
       "      <th>Income_2</th>\n",
       "      <th>Income_3</th>\n",
       "      <th>Income_4</th>\n",
       "      <th>Income_5</th>\n",
       "      <th>Pay Type_Hourly</th>\n",
       "      <th>Pay Type_Salaried</th>\n",
       "      <th>Gender_Female</th>\n",
       "      <th>Gender_Male</th>\n",
       "      <th>Live Alone_No</th>\n",
       "      <th>Live Alone_Yes</th>\n",
       "      <th>Dwell Type_Apt</th>\n",
       "      <th>Dwell Type_Condo</th>\n",
       "      <th>Dwell Type_Home</th>\n",
       "      <th>Nbhd_East</th>\n",
       "      <th>Nbhd_South</th>\n",
       "      <th>Nbhd_West</th>\n",
       "    </tr>\n",
       "  </thead>\n",
       "  <tbody>\n",
       "    <tr>\n",
       "      <th>0</th>\n",
       "      <td>1</td>\n",
       "      <td>175</td>\n",
       "      <td>2190</td>\n",
       "      <td>3510</td>\n",
       "      <td>7</td>\n",
       "      <td>0</td>\n",
       "      <td>0</td>\n",
       "      <td>1</td>\n",
       "      <td>0</td>\n",
       "      <td>0</td>\n",
       "      <td>0</td>\n",
       "      <td>1</td>\n",
       "      <td>0</td>\n",
       "      <td>0</td>\n",
       "      <td>0</td>\n",
       "      <td>1</td>\n",
       "      <td>0</td>\n",
       "      <td>0</td>\n",
       "      <td>1</td>\n",
       "      <td>1</td>\n",
       "      <td>0</td>\n",
       "      <td>0</td>\n",
       "      <td>0</td>\n",
       "      <td>1</td>\n",
       "      <td>1</td>\n",
       "      <td>0</td>\n",
       "      <td>0</td>\n",
       "    </tr>\n",
       "    <tr>\n",
       "      <th>1</th>\n",
       "      <td>2</td>\n",
       "      <td>202</td>\n",
       "      <td>2110</td>\n",
       "      <td>740</td>\n",
       "      <td>4</td>\n",
       "      <td>0</td>\n",
       "      <td>1</td>\n",
       "      <td>0</td>\n",
       "      <td>0</td>\n",
       "      <td>0</td>\n",
       "      <td>1</td>\n",
       "      <td>0</td>\n",
       "      <td>0</td>\n",
       "      <td>0</td>\n",
       "      <td>0</td>\n",
       "      <td>1</td>\n",
       "      <td>0</td>\n",
       "      <td>1</td>\n",
       "      <td>0</td>\n",
       "      <td>1</td>\n",
       "      <td>0</td>\n",
       "      <td>0</td>\n",
       "      <td>1</td>\n",
       "      <td>0</td>\n",
       "      <td>1</td>\n",
       "      <td>0</td>\n",
       "      <td>0</td>\n",
       "    </tr>\n",
       "  </tbody>\n",
       "</table>\n",
       "</div>"
      ],
      "text/plain": [
       "   Person  Weight  Car Value  CC Debt  Mall Trips  Age_1  Age_2  Age_3  Age_4  \\\n",
       "0       1     175       2190     3510           7      0      0      1      0   \n",
       "1       2     202       2110      740           4      0      1      0      0   \n",
       "\n",
       "   Age_5  Income_1  Income_2  Income_3  Income_4  Income_5  Pay Type_Hourly  \\\n",
       "0      0         0         1         0         0         0                1   \n",
       "1      0         1         0         0         0         0                1   \n",
       "\n",
       "   Pay Type_Salaried  Gender_Female  Gender_Male  Live Alone_No  \\\n",
       "0                  0              0            1              1   \n",
       "1                  0              1            0              1   \n",
       "\n",
       "   Live Alone_Yes  Dwell Type_Apt  Dwell Type_Condo  Dwell Type_Home  \\\n",
       "0               0               0                 0                1   \n",
       "1               0               0                 1                0   \n",
       "\n",
       "   Nbhd_East  Nbhd_South  Nbhd_West  \n",
       "0          1           0          0  \n",
       "1          1           0          0  "
      ]
     },
     "execution_count": 35,
     "metadata": {},
     "output_type": "execute_result"
    }
   ],
   "source": [
    "new_lasagna_triers.head(2)"
   ]
  },
  {
   "cell_type": "code",
   "execution_count": 36,
   "id": "20d0df88",
   "metadata": {},
   "outputs": [
    {
     "name": "stdout",
     "output_type": "stream",
     "text": [
      "<class 'pandas.core.frame.DataFrame'>\n",
      "RangeIndex: 856 entries, 0 to 855\n",
      "Data columns (total 27 columns):\n",
      " #   Column             Non-Null Count  Dtype\n",
      "---  ------             --------------  -----\n",
      " 0   Person             856 non-null    int64\n",
      " 1   Weight             856 non-null    int64\n",
      " 2   Car Value          856 non-null    int64\n",
      " 3   CC Debt            856 non-null    int64\n",
      " 4   Mall Trips         856 non-null    int64\n",
      " 5   Age_1              856 non-null    uint8\n",
      " 6   Age_2              856 non-null    uint8\n",
      " 7   Age_3              856 non-null    uint8\n",
      " 8   Age_4              856 non-null    uint8\n",
      " 9   Age_5              856 non-null    uint8\n",
      " 10  Income_1           856 non-null    uint8\n",
      " 11  Income_2           856 non-null    uint8\n",
      " 12  Income_3           856 non-null    uint8\n",
      " 13  Income_4           856 non-null    uint8\n",
      " 14  Income_5           856 non-null    uint8\n",
      " 15  Pay Type_Hourly    856 non-null    uint8\n",
      " 16  Pay Type_Salaried  856 non-null    uint8\n",
      " 17  Gender_Female      856 non-null    uint8\n",
      " 18  Gender_Male        856 non-null    uint8\n",
      " 19  Live Alone_No      856 non-null    uint8\n",
      " 20  Live Alone_Yes     856 non-null    uint8\n",
      " 21  Dwell Type_Apt     856 non-null    uint8\n",
      " 22  Dwell Type_Condo   856 non-null    uint8\n",
      " 23  Dwell Type_Home    856 non-null    uint8\n",
      " 24  Nbhd_East          856 non-null    uint8\n",
      " 25  Nbhd_South         856 non-null    uint8\n",
      " 26  Nbhd_West          856 non-null    uint8\n",
      "dtypes: int64(5), uint8(22)\n",
      "memory usage: 52.0 KB\n"
     ]
    }
   ],
   "source": [
    "new_lasagna_triers.info()"
   ]
  },
  {
   "cell_type": "code",
   "execution_count": 37,
   "id": "7cf6d460",
   "metadata": {},
   "outputs": [
    {
     "data": {
      "text/html": [
       "<div>\n",
       "<style scoped>\n",
       "    .dataframe tbody tr th:only-of-type {\n",
       "        vertical-align: middle;\n",
       "    }\n",
       "\n",
       "    .dataframe tbody tr th {\n",
       "        vertical-align: top;\n",
       "    }\n",
       "\n",
       "    .dataframe thead th {\n",
       "        text-align: right;\n",
       "    }\n",
       "</style>\n",
       "<table border=\"1\" class=\"dataframe\">\n",
       "  <thead>\n",
       "    <tr style=\"text-align: right;\">\n",
       "      <th></th>\n",
       "      <th>Have Tried</th>\n",
       "    </tr>\n",
       "  </thead>\n",
       "  <tbody>\n",
       "    <tr>\n",
       "      <th>0</th>\n",
       "      <td>0</td>\n",
       "    </tr>\n",
       "    <tr>\n",
       "      <th>1</th>\n",
       "      <td>1</td>\n",
       "    </tr>\n",
       "  </tbody>\n",
       "</table>\n",
       "</div>"
      ],
      "text/plain": [
       "   Have Tried\n",
       "0           0\n",
       "1           1"
      ]
     },
     "execution_count": 37,
     "metadata": {},
     "output_type": "execute_result"
    }
   ],
   "source": [
    "target_list.head(2)"
   ]
  },
  {
   "cell_type": "code",
   "execution_count": 38,
   "id": "de943734",
   "metadata": {},
   "outputs": [],
   "source": [
    "# Prepare X and y\n",
    "X=new_lasagna_triers\n",
    "y=target_list"
   ]
  },
  {
   "cell_type": "code",
   "execution_count": 39,
   "id": "220a4793",
   "metadata": {},
   "outputs": [],
   "source": [
    "# Split data\n",
    "X_train, X_test, y_train, y_test = train_test_split(X, y, train_size=0.80, random_state=42)"
   ]
  },
  {
   "cell_type": "code",
   "execution_count": 40,
   "id": "bddc918b",
   "metadata": {},
   "outputs": [],
   "source": [
    "clf = tree.DecisionTreeClassifier(criterion='gini')\n",
    "clf = clf.fit(X_train, y_train)"
   ]
  },
  {
   "cell_type": "code",
   "execution_count": 41,
   "id": "9aba081d",
   "metadata": {},
   "outputs": [],
   "source": [
    "# Predict on test data\n",
    "p_pred = clf.predict_proba(X_test)\n",
    "y_pred = clf.predict(X_test)\n",
    "\n",
    "score_ = clf.score(X_test, y_test)"
   ]
  },
  {
   "cell_type": "code",
   "execution_count": 42,
   "id": "5d22eb8f",
   "metadata": {},
   "outputs": [],
   "source": [
    "# Assign values of model score\n",
    "df_case_score.loc[len(df_case_score.index)] = [\"Model score with grouping of Age and Income\",score_]"
   ]
  },
  {
   "cell_type": "code",
   "execution_count": 43,
   "id": "63830e49",
   "metadata": {},
   "outputs": [
    {
     "data": {
      "text/html": [
       "<div>\n",
       "<style scoped>\n",
       "    .dataframe tbody tr th:only-of-type {\n",
       "        vertical-align: middle;\n",
       "    }\n",
       "\n",
       "    .dataframe tbody tr th {\n",
       "        vertical-align: top;\n",
       "    }\n",
       "\n",
       "    .dataframe thead th {\n",
       "        text-align: right;\n",
       "    }\n",
       "</style>\n",
       "<table border=\"1\" class=\"dataframe\">\n",
       "  <thead>\n",
       "    <tr style=\"text-align: right;\">\n",
       "      <th></th>\n",
       "      <th>Case</th>\n",
       "      <th>Score</th>\n",
       "    </tr>\n",
       "  </thead>\n",
       "  <tbody>\n",
       "    <tr>\n",
       "      <th>0</th>\n",
       "      <td>Model score without grouping of Age and Income</td>\n",
       "      <td>0.779070</td>\n",
       "    </tr>\n",
       "    <tr>\n",
       "      <th>1</th>\n",
       "      <td>Model score with grouping of Age and Income</td>\n",
       "      <td>0.755814</td>\n",
       "    </tr>\n",
       "  </tbody>\n",
       "</table>\n",
       "</div>"
      ],
      "text/plain": [
       "                                             Case     Score\n",
       "0  Model score without grouping of Age and Income  0.779070\n",
       "1     Model score with grouping of Age and Income  0.755814"
      ]
     },
     "execution_count": 43,
     "metadata": {},
     "output_type": "execute_result"
    }
   ],
   "source": [
    "df_case_score"
   ]
  },
  {
   "cell_type": "markdown",
   "id": "67dbc8d9",
   "metadata": {},
   "source": [
    "As can be seen, after grouping of Age and Income columns, there is increase in model score"
   ]
  }
 ],
 "metadata": {
  "kernelspec": {
   "display_name": "Python 3 (ipykernel)",
   "language": "python",
   "name": "python3"
  },
  "language_info": {
   "codemirror_mode": {
    "name": "ipython",
    "version": 3
   },
   "file_extension": ".py",
   "mimetype": "text/x-python",
   "name": "python",
   "nbconvert_exporter": "python",
   "pygments_lexer": "ipython3",
   "version": "3.9.7"
  }
 },
 "nbformat": 4,
 "nbformat_minor": 5
}
