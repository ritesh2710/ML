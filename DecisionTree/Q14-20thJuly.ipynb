{
 "cells": [
  {
   "cell_type": "markdown",
   "id": "e7af596d",
   "metadata": {},
   "source": [
    "Tree Based Models - Q14 - 20/July\n",
    "===================================\n",
    "The infamous house price prediction problem. :\n",
    "\n",
    "07_House_Price_Data.xlsx contains house price data along with few relevant variables. \n",
    "https://drive.google.com/drive/folders/1Jl8iDu7nGmrqCECbrLqmVafgwE5PYfiU\n",
    "\n",
    "Train a decision tree classifier to predict the house price based on other variables present in the dataset. Use a 5 fold CV for scoring.  Which variables do you think are categorical? How good is the prediction?"
   ]
  },
  {
   "cell_type": "code",
   "execution_count": 1,
   "id": "9a0060d8",
   "metadata": {},
   "outputs": [],
   "source": [
    "# Import libraries\n",
    "import numpy as np\n",
    "import pandas as pd\n",
    "import matplotlib.pyplot as plt\n",
    "import seaborn as sns\n",
    "\n",
    "from sklearn.tree import DecisionTreeRegressor, export_text\n",
    "from sklearn.model_selection import train_test_split, GridSearchCV\n",
    "from sklearn import metrics\n",
    "\n",
    "import warnings\n",
    "warnings.filterwarnings('ignore')"
   ]
  },
  {
   "cell_type": "code",
   "execution_count": 2,
   "id": "dfb9d002",
   "metadata": {},
   "outputs": [
    {
     "data": {
      "text/html": [
       "<div>\n",
       "<style scoped>\n",
       "    .dataframe tbody tr th:only-of-type {\n",
       "        vertical-align: middle;\n",
       "    }\n",
       "\n",
       "    .dataframe tbody tr th {\n",
       "        vertical-align: top;\n",
       "    }\n",
       "\n",
       "    .dataframe thead th {\n",
       "        text-align: right;\n",
       "    }\n",
       "</style>\n",
       "<table border=\"1\" class=\"dataframe\">\n",
       "  <thead>\n",
       "    <tr style=\"text-align: right;\">\n",
       "      <th></th>\n",
       "      <th>Home No</th>\n",
       "      <th>Nbhd</th>\n",
       "      <th>Offers</th>\n",
       "      <th>SqFt</th>\n",
       "      <th>Brick</th>\n",
       "      <th>Bedrooms</th>\n",
       "      <th>Bathrooms</th>\n",
       "      <th>Price</th>\n",
       "    </tr>\n",
       "  </thead>\n",
       "  <tbody>\n",
       "    <tr>\n",
       "      <th>0</th>\n",
       "      <td>1</td>\n",
       "      <td>0</td>\n",
       "      <td>2</td>\n",
       "      <td>1790</td>\n",
       "      <td>0</td>\n",
       "      <td>2</td>\n",
       "      <td>2</td>\n",
       "      <td>114300</td>\n",
       "    </tr>\n",
       "    <tr>\n",
       "      <th>1</th>\n",
       "      <td>2</td>\n",
       "      <td>0</td>\n",
       "      <td>3</td>\n",
       "      <td>2030</td>\n",
       "      <td>0</td>\n",
       "      <td>4</td>\n",
       "      <td>2</td>\n",
       "      <td>114200</td>\n",
       "    </tr>\n",
       "    <tr>\n",
       "      <th>2</th>\n",
       "      <td>3</td>\n",
       "      <td>0</td>\n",
       "      <td>1</td>\n",
       "      <td>1740</td>\n",
       "      <td>0</td>\n",
       "      <td>3</td>\n",
       "      <td>2</td>\n",
       "      <td>114800</td>\n",
       "    </tr>\n",
       "    <tr>\n",
       "      <th>3</th>\n",
       "      <td>4</td>\n",
       "      <td>0</td>\n",
       "      <td>3</td>\n",
       "      <td>1980</td>\n",
       "      <td>0</td>\n",
       "      <td>3</td>\n",
       "      <td>2</td>\n",
       "      <td>94700</td>\n",
       "    </tr>\n",
       "    <tr>\n",
       "      <th>4</th>\n",
       "      <td>5</td>\n",
       "      <td>0</td>\n",
       "      <td>3</td>\n",
       "      <td>2130</td>\n",
       "      <td>0</td>\n",
       "      <td>3</td>\n",
       "      <td>3</td>\n",
       "      <td>119800</td>\n",
       "    </tr>\n",
       "  </tbody>\n",
       "</table>\n",
       "</div>"
      ],
      "text/plain": [
       "   Home No  Nbhd  Offers  SqFt  Brick  Bedrooms  Bathrooms   Price\n",
       "0        1     0       2  1790      0         2          2  114300\n",
       "1        2     0       3  2030      0         4          2  114200\n",
       "2        3     0       1  1740      0         3          2  114800\n",
       "3        4     0       3  1980      0         3          2   94700\n",
       "4        5     0       3  2130      0         3          3  119800"
      ]
     },
     "execution_count": 2,
     "metadata": {},
     "output_type": "execute_result"
    }
   ],
   "source": [
    "# Read and display the data file\n",
    "df = pd.read_excel('/Users/riteshturlapaty/ai-ml-learning/AccelerateAI/7.DecisionTree/DailyQuiz/07_House_Price_Data.xlsx',sheet_name='Data')\n",
    "df.head(5)"
   ]
  },
  {
   "cell_type": "code",
   "execution_count": 3,
   "id": "fcf01dad",
   "metadata": {},
   "outputs": [
    {
     "name": "stdout",
     "output_type": "stream",
     "text": [
      "<class 'pandas.core.frame.DataFrame'>\n",
      "RangeIndex: 128 entries, 0 to 127\n",
      "Data columns (total 8 columns):\n",
      " #   Column     Non-Null Count  Dtype\n",
      "---  ------     --------------  -----\n",
      " 0   Home No    128 non-null    int64\n",
      " 1   Nbhd       128 non-null    int64\n",
      " 2   Offers     128 non-null    int64\n",
      " 3   SqFt       128 non-null    int64\n",
      " 4   Brick      128 non-null    int64\n",
      " 5   Bedrooms   128 non-null    int64\n",
      " 6   Bathrooms  128 non-null    int64\n",
      " 7   Price      128 non-null    int64\n",
      "dtypes: int64(8)\n",
      "memory usage: 8.1 KB\n"
     ]
    }
   ],
   "source": [
    "# Get the datatypes of the data frame columns\n",
    "df.info()"
   ]
  },
  {
   "cell_type": "code",
   "execution_count": 4,
   "id": "fb8c0807",
   "metadata": {},
   "outputs": [
    {
     "data": {
      "text/html": [
       "<div>\n",
       "<style scoped>\n",
       "    .dataframe tbody tr th:only-of-type {\n",
       "        vertical-align: middle;\n",
       "    }\n",
       "\n",
       "    .dataframe tbody tr th {\n",
       "        vertical-align: top;\n",
       "    }\n",
       "\n",
       "    .dataframe thead th {\n",
       "        text-align: right;\n",
       "    }\n",
       "</style>\n",
       "<table border=\"1\" class=\"dataframe\">\n",
       "  <thead>\n",
       "    <tr style=\"text-align: right;\">\n",
       "      <th></th>\n",
       "      <th>Home No</th>\n",
       "      <th>Nbhd</th>\n",
       "      <th>Offers</th>\n",
       "      <th>SqFt</th>\n",
       "      <th>Brick</th>\n",
       "      <th>Bedrooms</th>\n",
       "      <th>Bathrooms</th>\n",
       "      <th>Price</th>\n",
       "    </tr>\n",
       "  </thead>\n",
       "  <tbody>\n",
       "    <tr>\n",
       "      <th>count</th>\n",
       "      <td>128.000000</td>\n",
       "      <td>128.000000</td>\n",
       "      <td>128.000000</td>\n",
       "      <td>128.000000</td>\n",
       "      <td>128.000000</td>\n",
       "      <td>128.000000</td>\n",
       "      <td>128.000000</td>\n",
       "      <td>128.000000</td>\n",
       "    </tr>\n",
       "    <tr>\n",
       "      <th>mean</th>\n",
       "      <td>64.500000</td>\n",
       "      <td>0.304688</td>\n",
       "      <td>2.578125</td>\n",
       "      <td>2000.937500</td>\n",
       "      <td>0.328125</td>\n",
       "      <td>3.023438</td>\n",
       "      <td>2.445312</td>\n",
       "      <td>130427.343750</td>\n",
       "    </tr>\n",
       "    <tr>\n",
       "      <th>std</th>\n",
       "      <td>37.094474</td>\n",
       "      <td>0.462084</td>\n",
       "      <td>1.069324</td>\n",
       "      <td>211.572431</td>\n",
       "      <td>0.471376</td>\n",
       "      <td>0.725951</td>\n",
       "      <td>0.514492</td>\n",
       "      <td>26868.770371</td>\n",
       "    </tr>\n",
       "    <tr>\n",
       "      <th>min</th>\n",
       "      <td>1.000000</td>\n",
       "      <td>0.000000</td>\n",
       "      <td>1.000000</td>\n",
       "      <td>1450.000000</td>\n",
       "      <td>0.000000</td>\n",
       "      <td>2.000000</td>\n",
       "      <td>2.000000</td>\n",
       "      <td>69100.000000</td>\n",
       "    </tr>\n",
       "    <tr>\n",
       "      <th>25%</th>\n",
       "      <td>32.750000</td>\n",
       "      <td>0.000000</td>\n",
       "      <td>2.000000</td>\n",
       "      <td>1880.000000</td>\n",
       "      <td>0.000000</td>\n",
       "      <td>3.000000</td>\n",
       "      <td>2.000000</td>\n",
       "      <td>111325.000000</td>\n",
       "    </tr>\n",
       "    <tr>\n",
       "      <th>50%</th>\n",
       "      <td>64.500000</td>\n",
       "      <td>0.000000</td>\n",
       "      <td>3.000000</td>\n",
       "      <td>2000.000000</td>\n",
       "      <td>0.000000</td>\n",
       "      <td>3.000000</td>\n",
       "      <td>2.000000</td>\n",
       "      <td>125950.000000</td>\n",
       "    </tr>\n",
       "    <tr>\n",
       "      <th>75%</th>\n",
       "      <td>96.250000</td>\n",
       "      <td>1.000000</td>\n",
       "      <td>3.000000</td>\n",
       "      <td>2140.000000</td>\n",
       "      <td>1.000000</td>\n",
       "      <td>3.000000</td>\n",
       "      <td>3.000000</td>\n",
       "      <td>148250.000000</td>\n",
       "    </tr>\n",
       "    <tr>\n",
       "      <th>max</th>\n",
       "      <td>128.000000</td>\n",
       "      <td>1.000000</td>\n",
       "      <td>6.000000</td>\n",
       "      <td>2590.000000</td>\n",
       "      <td>1.000000</td>\n",
       "      <td>5.000000</td>\n",
       "      <td>4.000000</td>\n",
       "      <td>211200.000000</td>\n",
       "    </tr>\n",
       "  </tbody>\n",
       "</table>\n",
       "</div>"
      ],
      "text/plain": [
       "          Home No        Nbhd      Offers         SqFt       Brick  \\\n",
       "count  128.000000  128.000000  128.000000   128.000000  128.000000   \n",
       "mean    64.500000    0.304688    2.578125  2000.937500    0.328125   \n",
       "std     37.094474    0.462084    1.069324   211.572431    0.471376   \n",
       "min      1.000000    0.000000    1.000000  1450.000000    0.000000   \n",
       "25%     32.750000    0.000000    2.000000  1880.000000    0.000000   \n",
       "50%     64.500000    0.000000    3.000000  2000.000000    0.000000   \n",
       "75%     96.250000    1.000000    3.000000  2140.000000    1.000000   \n",
       "max    128.000000    1.000000    6.000000  2590.000000    1.000000   \n",
       "\n",
       "         Bedrooms   Bathrooms          Price  \n",
       "count  128.000000  128.000000     128.000000  \n",
       "mean     3.023438    2.445312  130427.343750  \n",
       "std      0.725951    0.514492   26868.770371  \n",
       "min      2.000000    2.000000   69100.000000  \n",
       "25%      3.000000    2.000000  111325.000000  \n",
       "50%      3.000000    2.000000  125950.000000  \n",
       "75%      3.000000    3.000000  148250.000000  \n",
       "max      5.000000    4.000000  211200.000000  "
      ]
     },
     "execution_count": 4,
     "metadata": {},
     "output_type": "execute_result"
    }
   ],
   "source": [
    "# Describe the data frame\n",
    "df.describe()"
   ]
  },
  {
   "cell_type": "markdown",
   "id": "3812a9bc",
   "metadata": {},
   "source": [
    "### Check for categorical variables in the dataframe"
   ]
  },
  {
   "cell_type": "code",
   "execution_count": 6,
   "id": "14246570",
   "metadata": {},
   "outputs": [
    {
     "data": {
      "text/plain": [
       "0    89\n",
       "1    39\n",
       "Name: Nbhd, dtype: int64"
      ]
     },
     "execution_count": 6,
     "metadata": {},
     "output_type": "execute_result"
    }
   ],
   "source": [
    "df['Nbhd'].value_counts()"
   ]
  },
  {
   "cell_type": "markdown",
   "id": "ee614662",
   "metadata": {},
   "source": [
    "As seen, Nbhd (Neighborhood) takes only 0 and 1 values hence can be considered as binary categorical variable"
   ]
  },
  {
   "cell_type": "code",
   "execution_count": 7,
   "id": "542f29de",
   "metadata": {},
   "outputs": [
    {
     "data": {
      "text/plain": [
       "3    46\n",
       "2    36\n",
       "1    23\n",
       "4    19\n",
       "5     3\n",
       "6     1\n",
       "Name: Offers, dtype: int64"
      ]
     },
     "execution_count": 7,
     "metadata": {},
     "output_type": "execute_result"
    }
   ],
   "source": [
    "df['Offers'].value_counts()"
   ]
  },
  {
   "cell_type": "markdown",
   "id": "e7e2c21a",
   "metadata": {},
   "source": [
    "Here offers takes specific value and hence can be categorized as categorical"
   ]
  },
  {
   "cell_type": "code",
   "execution_count": 8,
   "id": "ac18adc2",
   "metadata": {},
   "outputs": [
    {
     "data": {
      "text/plain": [
       "0    86\n",
       "1    42\n",
       "Name: Brick, dtype: int64"
      ]
     },
     "execution_count": 8,
     "metadata": {},
     "output_type": "execute_result"
    }
   ],
   "source": [
    "df['Brick'].value_counts()"
   ]
  },
  {
   "cell_type": "markdown",
   "id": "14a538b3",
   "metadata": {},
   "source": [
    "Here Brick (whether the construction is done using brick or not) takes only 0 and 1 values hence can be considered as binary categorical variable"
   ]
  },
  {
   "cell_type": "code",
   "execution_count": 10,
   "id": "21c932c0",
   "metadata": {},
   "outputs": [
    {
     "data": {
      "text/html": [
       "<div>\n",
       "<style scoped>\n",
       "    .dataframe tbody tr th:only-of-type {\n",
       "        vertical-align: middle;\n",
       "    }\n",
       "\n",
       "    .dataframe tbody tr th {\n",
       "        vertical-align: top;\n",
       "    }\n",
       "\n",
       "    .dataframe thead th {\n",
       "        text-align: right;\n",
       "    }\n",
       "</style>\n",
       "<table border=\"1\" class=\"dataframe\">\n",
       "  <thead>\n",
       "    <tr style=\"text-align: right;\">\n",
       "      <th></th>\n",
       "      <th>Home No</th>\n",
       "      <th>SqFt</th>\n",
       "      <th>Bedrooms</th>\n",
       "      <th>Bathrooms</th>\n",
       "      <th>Price</th>\n",
       "      <th>Nbhd_0</th>\n",
       "      <th>Nbhd_1</th>\n",
       "      <th>Offers_1</th>\n",
       "      <th>Offers_2</th>\n",
       "      <th>Offers_3</th>\n",
       "      <th>Offers_4</th>\n",
       "      <th>Offers_5</th>\n",
       "      <th>Offers_6</th>\n",
       "      <th>Brick_0</th>\n",
       "      <th>Brick_1</th>\n",
       "    </tr>\n",
       "  </thead>\n",
       "  <tbody>\n",
       "    <tr>\n",
       "      <th>4</th>\n",
       "      <td>5</td>\n",
       "      <td>2130</td>\n",
       "      <td>3</td>\n",
       "      <td>3</td>\n",
       "      <td>119800</td>\n",
       "      <td>1</td>\n",
       "      <td>0</td>\n",
       "      <td>0</td>\n",
       "      <td>0</td>\n",
       "      <td>1</td>\n",
       "      <td>0</td>\n",
       "      <td>0</td>\n",
       "      <td>0</td>\n",
       "      <td>1</td>\n",
       "      <td>0</td>\n",
       "    </tr>\n",
       "    <tr>\n",
       "      <th>45</th>\n",
       "      <td>46</td>\n",
       "      <td>1810</td>\n",
       "      <td>3</td>\n",
       "      <td>2</td>\n",
       "      <td>103200</td>\n",
       "      <td>1</td>\n",
       "      <td>0</td>\n",
       "      <td>0</td>\n",
       "      <td>0</td>\n",
       "      <td>1</td>\n",
       "      <td>0</td>\n",
       "      <td>0</td>\n",
       "      <td>0</td>\n",
       "      <td>1</td>\n",
       "      <td>0</td>\n",
       "    </tr>\n",
       "    <tr>\n",
       "      <th>106</th>\n",
       "      <td>107</td>\n",
       "      <td>2130</td>\n",
       "      <td>3</td>\n",
       "      <td>2</td>\n",
       "      <td>108500</td>\n",
       "      <td>1</td>\n",
       "      <td>0</td>\n",
       "      <td>0</td>\n",
       "      <td>0</td>\n",
       "      <td>0</td>\n",
       "      <td>1</td>\n",
       "      <td>0</td>\n",
       "      <td>0</td>\n",
       "      <td>1</td>\n",
       "      <td>0</td>\n",
       "    </tr>\n",
       "    <tr>\n",
       "      <th>56</th>\n",
       "      <td>57</td>\n",
       "      <td>2190</td>\n",
       "      <td>3</td>\n",
       "      <td>2</td>\n",
       "      <td>140900</td>\n",
       "      <td>1</td>\n",
       "      <td>0</td>\n",
       "      <td>0</td>\n",
       "      <td>0</td>\n",
       "      <td>1</td>\n",
       "      <td>0</td>\n",
       "      <td>0</td>\n",
       "      <td>0</td>\n",
       "      <td>0</td>\n",
       "      <td>1</td>\n",
       "    </tr>\n",
       "    <tr>\n",
       "      <th>127</th>\n",
       "      <td>128</td>\n",
       "      <td>2250</td>\n",
       "      <td>3</td>\n",
       "      <td>3</td>\n",
       "      <td>124600</td>\n",
       "      <td>1</td>\n",
       "      <td>0</td>\n",
       "      <td>0</td>\n",
       "      <td>0</td>\n",
       "      <td>0</td>\n",
       "      <td>1</td>\n",
       "      <td>0</td>\n",
       "      <td>0</td>\n",
       "      <td>1</td>\n",
       "      <td>0</td>\n",
       "    </tr>\n",
       "  </tbody>\n",
       "</table>\n",
       "</div>"
      ],
      "text/plain": [
       "     Home No  SqFt  Bedrooms  Bathrooms   Price  Nbhd_0  Nbhd_1  Offers_1  \\\n",
       "4          5  2130         3          3  119800       1       0         0   \n",
       "45        46  1810         3          2  103200       1       0         0   \n",
       "106      107  2130         3          2  108500       1       0         0   \n",
       "56        57  2190         3          2  140900       1       0         0   \n",
       "127      128  2250         3          3  124600       1       0         0   \n",
       "\n",
       "     Offers_2  Offers_3  Offers_4  Offers_5  Offers_6  Brick_0  Brick_1  \n",
       "4           0         1         0         0         0        1        0  \n",
       "45          0         1         0         0         0        1        0  \n",
       "106         0         0         1         0         0        1        0  \n",
       "56          0         1         0         0         0        0        1  \n",
       "127         0         0         1         0         0        1        0  "
      ]
     },
     "execution_count": 10,
     "metadata": {},
     "output_type": "execute_result"
    }
   ],
   "source": [
    "# Create dummy values for the identified categorical variables\n",
    "housing_data = pd.get_dummies(df, columns=['Nbhd','Offers','Brick'])\n",
    "housing_data.sample(5)"
   ]
  },
  {
   "cell_type": "code",
   "execution_count": 11,
   "id": "4cacaf75",
   "metadata": {},
   "outputs": [],
   "source": [
    "# Lets drop Home No\n",
    "housing_data.drop('Home No', axis=1, inplace=True)"
   ]
  },
  {
   "cell_type": "code",
   "execution_count": 12,
   "id": "6fa5ed3e",
   "metadata": {},
   "outputs": [],
   "source": [
    "# Split the data\n",
    "X = housing_data.drop('Price', axis=1)\n",
    "y =  housing_data['Price']\n",
    "\n",
    "X_train, X_test, y_train, y_test = train_test_split(X, y, test_size=0.25, random_state=42)"
   ]
  },
  {
   "cell_type": "code",
   "execution_count": 13,
   "id": "f614acaf",
   "metadata": {},
   "outputs": [
    {
     "name": "stdout",
     "output_type": "stream",
     "text": [
      "{'max_depth': 5, 'min_samples_leaf': 10, 'min_samples_split': 5}\n",
      "0.42087384105873615\n"
     ]
    }
   ],
   "source": [
    "# Lets fit the decision tree\n",
    "params = {'min_samples_split' : [5,10,15,20],\n",
    "          'min_samples_leaf' : [10,15,20],\n",
    "          'max_depth' : [5,10,15]}\n",
    "\n",
    "# Create GridSearchCV object\n",
    "clf_gs = GridSearchCV(DecisionTreeRegressor(), cv=5, param_grid=params)\n",
    "\n",
    "# Fit\n",
    "clf_gs.fit(X_train, y_train)\n",
    "\n",
    "# Print best params and best score\n",
    "print(clf_gs.best_params_)\n",
    "print(clf_gs.best_score_)"
   ]
  },
  {
   "cell_type": "code",
   "execution_count": 14,
   "id": "203db7b5",
   "metadata": {},
   "outputs": [
    {
     "data": {
      "text/plain": [
       "0.5752963809407762"
      ]
     },
     "execution_count": 14,
     "metadata": {},
     "output_type": "execute_result"
    }
   ],
   "source": [
    "# Check score on Test\n",
    "clf_gs.score(X_test, y_test)"
   ]
  },
  {
   "cell_type": "markdown",
   "id": "d5e4e334",
   "metadata": {},
   "source": [
    "As observed, the score of 52% is not that high and better than training set score of 42%."
   ]
  }
 ],
 "metadata": {
  "kernelspec": {
   "display_name": "Python 3 (ipykernel)",
   "language": "python",
   "name": "python3"
  },
  "language_info": {
   "codemirror_mode": {
    "name": "ipython",
    "version": 3
   },
   "file_extension": ".py",
   "mimetype": "text/x-python",
   "name": "python",
   "nbconvert_exporter": "python",
   "pygments_lexer": "ipython3",
   "version": "3.9.7"
  }
 },
 "nbformat": 4,
 "nbformat_minor": 5
}
