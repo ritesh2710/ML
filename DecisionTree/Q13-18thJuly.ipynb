{
 "cells": [
  {
   "cell_type": "markdown",
   "id": "e1a9dacc",
   "metadata": {},
   "source": [
    "\n",
    "Tree Based Models - Q13 - 18/July\n",
    "===================================\n",
    "We are interested in understanding what impacts the mileage of cars. \n",
    "400 cars were measured and its data is available in the file 06_Car_mileage.csv. \n",
    "\n",
    "https://drive.google.com/drive/folders/1Jl8iDu7nGmrqCECbrLqmVafgwE5PYfiU\n",
    "\n",
    "1) Train a decision tree and identify the features that impact the mileage of cars. \n",
    "\n",
    "     Note that cylinders though numerical can only take specific values, and origin is categorical.\n",
    "\n",
    "2) How good would the prediction be if we use 300 cars for training and test it on the rest of the data?\n",
    "\n",
    "3) Are there outliers that influence the result? How can we minimize the impact of outliers?"
   ]
  },
  {
   "cell_type": "code",
   "execution_count": 1,
   "id": "d4b0ff58",
   "metadata": {},
   "outputs": [],
   "source": [
    "# Import libraries\n",
    "import numpy as np\n",
    "import pandas as pd\n",
    "import matplotlib.pyplot as plt\n",
    "import seaborn as sns\n",
    "\n",
    "from sklearn.tree import DecisionTreeRegressor, export_text\n",
    "from sklearn.model_selection import train_test_split, GridSearchCV\n",
    "\n",
    "import warnings\n",
    "warnings.filterwarnings('ignore')"
   ]
  },
  {
   "cell_type": "code",
   "execution_count": 2,
   "id": "781a53a6",
   "metadata": {},
   "outputs": [
    {
     "data": {
      "text/html": [
       "<div>\n",
       "<style scoped>\n",
       "    .dataframe tbody tr th:only-of-type {\n",
       "        vertical-align: middle;\n",
       "    }\n",
       "\n",
       "    .dataframe tbody tr th {\n",
       "        vertical-align: top;\n",
       "    }\n",
       "\n",
       "    .dataframe thead th {\n",
       "        text-align: right;\n",
       "    }\n",
       "</style>\n",
       "<table border=\"1\" class=\"dataframe\">\n",
       "  <thead>\n",
       "    <tr style=\"text-align: right;\">\n",
       "      <th></th>\n",
       "      <th>cylinders</th>\n",
       "      <th>displacement</th>\n",
       "      <th>hp</th>\n",
       "      <th>weight</th>\n",
       "      <th>acceleration</th>\n",
       "      <th>origin</th>\n",
       "      <th>mpg</th>\n",
       "    </tr>\n",
       "  </thead>\n",
       "  <tbody>\n",
       "    <tr>\n",
       "      <th>0</th>\n",
       "      <td>8</td>\n",
       "      <td>307.0</td>\n",
       "      <td>130</td>\n",
       "      <td>3504</td>\n",
       "      <td>12.0</td>\n",
       "      <td>1</td>\n",
       "      <td>18.0</td>\n",
       "    </tr>\n",
       "    <tr>\n",
       "      <th>1</th>\n",
       "      <td>8</td>\n",
       "      <td>350.0</td>\n",
       "      <td>165</td>\n",
       "      <td>3693</td>\n",
       "      <td>11.5</td>\n",
       "      <td>1</td>\n",
       "      <td>15.0</td>\n",
       "    </tr>\n",
       "    <tr>\n",
       "      <th>2</th>\n",
       "      <td>8</td>\n",
       "      <td>318.0</td>\n",
       "      <td>150</td>\n",
       "      <td>3436</td>\n",
       "      <td>11.0</td>\n",
       "      <td>1</td>\n",
       "      <td>18.0</td>\n",
       "    </tr>\n",
       "    <tr>\n",
       "      <th>3</th>\n",
       "      <td>8</td>\n",
       "      <td>304.0</td>\n",
       "      <td>150</td>\n",
       "      <td>3433</td>\n",
       "      <td>12.0</td>\n",
       "      <td>1</td>\n",
       "      <td>16.0</td>\n",
       "    </tr>\n",
       "    <tr>\n",
       "      <th>4</th>\n",
       "      <td>8</td>\n",
       "      <td>302.0</td>\n",
       "      <td>140</td>\n",
       "      <td>3449</td>\n",
       "      <td>10.5</td>\n",
       "      <td>1</td>\n",
       "      <td>17.0</td>\n",
       "    </tr>\n",
       "  </tbody>\n",
       "</table>\n",
       "</div>"
      ],
      "text/plain": [
       "   cylinders  displacement   hp  weight  acceleration  origin   mpg\n",
       "0          8         307.0  130    3504          12.0       1  18.0\n",
       "1          8         350.0  165    3693          11.5       1  15.0\n",
       "2          8         318.0  150    3436          11.0       1  18.0\n",
       "3          8         304.0  150    3433          12.0       1  16.0\n",
       "4          8         302.0  140    3449          10.5       1  17.0"
      ]
     },
     "execution_count": 2,
     "metadata": {},
     "output_type": "execute_result"
    }
   ],
   "source": [
    "# Read and display the data file\n",
    "df = pd.read_csv('/Users/riteshturlapaty/ai-ml-learning/AccelerateAI/7.DecisionTree/DailyQuiz/06_Car_mileage.csv')\n",
    "df.head(5)"
   ]
  },
  {
   "cell_type": "code",
   "execution_count": 3,
   "id": "e36e3f5b",
   "metadata": {},
   "outputs": [
    {
     "name": "stdout",
     "output_type": "stream",
     "text": [
      "<class 'pandas.core.frame.DataFrame'>\n",
      "RangeIndex: 398 entries, 0 to 397\n",
      "Data columns (total 7 columns):\n",
      " #   Column        Non-Null Count  Dtype  \n",
      "---  ------        --------------  -----  \n",
      " 0   cylinders     398 non-null    int64  \n",
      " 1   displacement  398 non-null    float64\n",
      " 2   hp            398 non-null    object \n",
      " 3   weight        398 non-null    int64  \n",
      " 4   acceleration  398 non-null    float64\n",
      " 5   origin        398 non-null    int64  \n",
      " 6   mpg           398 non-null    float64\n",
      "dtypes: float64(3), int64(3), object(1)\n",
      "memory usage: 21.9+ KB\n"
     ]
    }
   ],
   "source": [
    "# Get the datatypes of the data frame columns\n",
    "df.info()"
   ]
  },
  {
   "cell_type": "code",
   "execution_count": 4,
   "id": "9359beca",
   "metadata": {},
   "outputs": [
    {
     "data": {
      "text/html": [
       "<div>\n",
       "<style scoped>\n",
       "    .dataframe tbody tr th:only-of-type {\n",
       "        vertical-align: middle;\n",
       "    }\n",
       "\n",
       "    .dataframe tbody tr th {\n",
       "        vertical-align: top;\n",
       "    }\n",
       "\n",
       "    .dataframe thead th {\n",
       "        text-align: right;\n",
       "    }\n",
       "</style>\n",
       "<table border=\"1\" class=\"dataframe\">\n",
       "  <thead>\n",
       "    <tr style=\"text-align: right;\">\n",
       "      <th></th>\n",
       "      <th>cylinders</th>\n",
       "      <th>displacement</th>\n",
       "      <th>weight</th>\n",
       "      <th>acceleration</th>\n",
       "      <th>origin</th>\n",
       "      <th>mpg</th>\n",
       "    </tr>\n",
       "  </thead>\n",
       "  <tbody>\n",
       "    <tr>\n",
       "      <th>count</th>\n",
       "      <td>398.000000</td>\n",
       "      <td>398.000000</td>\n",
       "      <td>398.000000</td>\n",
       "      <td>398.000000</td>\n",
       "      <td>398.000000</td>\n",
       "      <td>398.000000</td>\n",
       "    </tr>\n",
       "    <tr>\n",
       "      <th>mean</th>\n",
       "      <td>5.454774</td>\n",
       "      <td>193.425879</td>\n",
       "      <td>2970.424623</td>\n",
       "      <td>15.568090</td>\n",
       "      <td>1.572864</td>\n",
       "      <td>23.514573</td>\n",
       "    </tr>\n",
       "    <tr>\n",
       "      <th>std</th>\n",
       "      <td>1.701004</td>\n",
       "      <td>104.269838</td>\n",
       "      <td>846.841774</td>\n",
       "      <td>2.757689</td>\n",
       "      <td>0.802055</td>\n",
       "      <td>7.815984</td>\n",
       "    </tr>\n",
       "    <tr>\n",
       "      <th>min</th>\n",
       "      <td>3.000000</td>\n",
       "      <td>68.000000</td>\n",
       "      <td>1613.000000</td>\n",
       "      <td>8.000000</td>\n",
       "      <td>1.000000</td>\n",
       "      <td>9.000000</td>\n",
       "    </tr>\n",
       "    <tr>\n",
       "      <th>25%</th>\n",
       "      <td>4.000000</td>\n",
       "      <td>104.250000</td>\n",
       "      <td>2223.750000</td>\n",
       "      <td>13.825000</td>\n",
       "      <td>1.000000</td>\n",
       "      <td>17.500000</td>\n",
       "    </tr>\n",
       "    <tr>\n",
       "      <th>50%</th>\n",
       "      <td>4.000000</td>\n",
       "      <td>148.500000</td>\n",
       "      <td>2803.500000</td>\n",
       "      <td>15.500000</td>\n",
       "      <td>1.000000</td>\n",
       "      <td>23.000000</td>\n",
       "    </tr>\n",
       "    <tr>\n",
       "      <th>75%</th>\n",
       "      <td>8.000000</td>\n",
       "      <td>262.000000</td>\n",
       "      <td>3608.000000</td>\n",
       "      <td>17.175000</td>\n",
       "      <td>2.000000</td>\n",
       "      <td>29.000000</td>\n",
       "    </tr>\n",
       "    <tr>\n",
       "      <th>max</th>\n",
       "      <td>8.000000</td>\n",
       "      <td>455.000000</td>\n",
       "      <td>5140.000000</td>\n",
       "      <td>24.800000</td>\n",
       "      <td>3.000000</td>\n",
       "      <td>46.600000</td>\n",
       "    </tr>\n",
       "  </tbody>\n",
       "</table>\n",
       "</div>"
      ],
      "text/plain": [
       "        cylinders  displacement       weight  acceleration      origin  \\\n",
       "count  398.000000    398.000000   398.000000    398.000000  398.000000   \n",
       "mean     5.454774    193.425879  2970.424623     15.568090    1.572864   \n",
       "std      1.701004    104.269838   846.841774      2.757689    0.802055   \n",
       "min      3.000000     68.000000  1613.000000      8.000000    1.000000   \n",
       "25%      4.000000    104.250000  2223.750000     13.825000    1.000000   \n",
       "50%      4.000000    148.500000  2803.500000     15.500000    1.000000   \n",
       "75%      8.000000    262.000000  3608.000000     17.175000    2.000000   \n",
       "max      8.000000    455.000000  5140.000000     24.800000    3.000000   \n",
       "\n",
       "              mpg  \n",
       "count  398.000000  \n",
       "mean    23.514573  \n",
       "std      7.815984  \n",
       "min      9.000000  \n",
       "25%     17.500000  \n",
       "50%     23.000000  \n",
       "75%     29.000000  \n",
       "max     46.600000  "
      ]
     },
     "execution_count": 4,
     "metadata": {},
     "output_type": "execute_result"
    }
   ],
   "source": [
    "# Describe the data frame\n",
    "df.describe()"
   ]
  },
  {
   "cell_type": "code",
   "execution_count": 5,
   "id": "0c3cd110",
   "metadata": {},
   "outputs": [],
   "source": [
    "# Assign to new data frame\n",
    "car_mileage_data=df"
   ]
  },
  {
   "cell_type": "code",
   "execution_count": 6,
   "id": "f97e93d7",
   "metadata": {},
   "outputs": [],
   "source": [
    "# hp is incorrectly stored as object, lets convert it into numeric\n",
    "car_mileage_data['hp'] = pd.to_numeric(car_mileage_data['hp'], errors='coerce')\n",
    "car_mileage_data.dropna(inplace=True)"
   ]
  },
  {
   "cell_type": "code",
   "execution_count": 7,
   "id": "b258455c",
   "metadata": {},
   "outputs": [
    {
     "data": {
      "text/plain": [
       "1    245\n",
       "3     79\n",
       "2     68\n",
       "Name: origin, dtype: int64"
      ]
     },
     "execution_count": 7,
     "metadata": {},
     "output_type": "execute_result"
    }
   ],
   "source": [
    "# Check the origin value after converting into numeric\n",
    "car_mileage_data['origin'].value_counts()"
   ]
  },
  {
   "cell_type": "code",
   "execution_count": 8,
   "id": "a4e72efc",
   "metadata": {},
   "outputs": [
    {
     "data": {
      "text/html": [
       "<div>\n",
       "<style scoped>\n",
       "    .dataframe tbody tr th:only-of-type {\n",
       "        vertical-align: middle;\n",
       "    }\n",
       "\n",
       "    .dataframe tbody tr th {\n",
       "        vertical-align: top;\n",
       "    }\n",
       "\n",
       "    .dataframe thead th {\n",
       "        text-align: right;\n",
       "    }\n",
       "</style>\n",
       "<table border=\"1\" class=\"dataframe\">\n",
       "  <thead>\n",
       "    <tr style=\"text-align: right;\">\n",
       "      <th></th>\n",
       "      <th>displacement</th>\n",
       "      <th>hp</th>\n",
       "      <th>weight</th>\n",
       "      <th>acceleration</th>\n",
       "      <th>mpg</th>\n",
       "      <th>origin_1</th>\n",
       "      <th>origin_2</th>\n",
       "      <th>origin_3</th>\n",
       "      <th>cylinders_3</th>\n",
       "      <th>cylinders_4</th>\n",
       "      <th>cylinders_5</th>\n",
       "      <th>cylinders_6</th>\n",
       "      <th>cylinders_8</th>\n",
       "    </tr>\n",
       "  </thead>\n",
       "  <tbody>\n",
       "    <tr>\n",
       "      <th>0</th>\n",
       "      <td>307.0</td>\n",
       "      <td>130.0</td>\n",
       "      <td>3504</td>\n",
       "      <td>12.0</td>\n",
       "      <td>18.0</td>\n",
       "      <td>1</td>\n",
       "      <td>0</td>\n",
       "      <td>0</td>\n",
       "      <td>0</td>\n",
       "      <td>0</td>\n",
       "      <td>0</td>\n",
       "      <td>0</td>\n",
       "      <td>1</td>\n",
       "    </tr>\n",
       "    <tr>\n",
       "      <th>1</th>\n",
       "      <td>350.0</td>\n",
       "      <td>165.0</td>\n",
       "      <td>3693</td>\n",
       "      <td>11.5</td>\n",
       "      <td>15.0</td>\n",
       "      <td>1</td>\n",
       "      <td>0</td>\n",
       "      <td>0</td>\n",
       "      <td>0</td>\n",
       "      <td>0</td>\n",
       "      <td>0</td>\n",
       "      <td>0</td>\n",
       "      <td>1</td>\n",
       "    </tr>\n",
       "    <tr>\n",
       "      <th>2</th>\n",
       "      <td>318.0</td>\n",
       "      <td>150.0</td>\n",
       "      <td>3436</td>\n",
       "      <td>11.0</td>\n",
       "      <td>18.0</td>\n",
       "      <td>1</td>\n",
       "      <td>0</td>\n",
       "      <td>0</td>\n",
       "      <td>0</td>\n",
       "      <td>0</td>\n",
       "      <td>0</td>\n",
       "      <td>0</td>\n",
       "      <td>1</td>\n",
       "    </tr>\n",
       "    <tr>\n",
       "      <th>3</th>\n",
       "      <td>304.0</td>\n",
       "      <td>150.0</td>\n",
       "      <td>3433</td>\n",
       "      <td>12.0</td>\n",
       "      <td>16.0</td>\n",
       "      <td>1</td>\n",
       "      <td>0</td>\n",
       "      <td>0</td>\n",
       "      <td>0</td>\n",
       "      <td>0</td>\n",
       "      <td>0</td>\n",
       "      <td>0</td>\n",
       "      <td>1</td>\n",
       "    </tr>\n",
       "    <tr>\n",
       "      <th>4</th>\n",
       "      <td>302.0</td>\n",
       "      <td>140.0</td>\n",
       "      <td>3449</td>\n",
       "      <td>10.5</td>\n",
       "      <td>17.0</td>\n",
       "      <td>1</td>\n",
       "      <td>0</td>\n",
       "      <td>0</td>\n",
       "      <td>0</td>\n",
       "      <td>0</td>\n",
       "      <td>0</td>\n",
       "      <td>0</td>\n",
       "      <td>1</td>\n",
       "    </tr>\n",
       "  </tbody>\n",
       "</table>\n",
       "</div>"
      ],
      "text/plain": [
       "   displacement     hp  weight  acceleration   mpg  origin_1  origin_2  \\\n",
       "0         307.0  130.0    3504          12.0  18.0         1         0   \n",
       "1         350.0  165.0    3693          11.5  15.0         1         0   \n",
       "2         318.0  150.0    3436          11.0  18.0         1         0   \n",
       "3         304.0  150.0    3433          12.0  16.0         1         0   \n",
       "4         302.0  140.0    3449          10.5  17.0         1         0   \n",
       "\n",
       "   origin_3  cylinders_3  cylinders_4  cylinders_5  cylinders_6  cylinders_8  \n",
       "0         0            0            0            0            0            1  \n",
       "1         0            0            0            0            0            1  \n",
       "2         0            0            0            0            0            1  \n",
       "3         0            0            0            0            0            1  \n",
       "4         0            0            0            0            0            1  "
      ]
     },
     "execution_count": 8,
     "metadata": {},
     "output_type": "execute_result"
    }
   ],
   "source": [
    "# Here origin and cylinders are both considered as categorical\n",
    "car_mileage_onehot = pd.get_dummies(car_mileage_data, columns=['origin', 'cylinders'])\n",
    "car_mileage_onehot.head()"
   ]
  },
  {
   "cell_type": "code",
   "execution_count": 9,
   "id": "32318cb5",
   "metadata": {},
   "outputs": [
    {
     "data": {
      "text/plain": [
       "DecisionTreeRegressor(random_state=42)"
      ]
     },
     "execution_count": 9,
     "metadata": {},
     "output_type": "execute_result"
    }
   ],
   "source": [
    "# Prepare X and y\n",
    "X = car_mileage_onehot.drop('mpg', axis=1)\n",
    "y = car_mileage_onehot['mpg']\n",
    "\n",
    "# Initialize the model\n",
    "clf = DecisionTreeRegressor(random_state=42)\n",
    "\n",
    "# Fit the model\n",
    "clf.fit(X, y)"
   ]
  },
  {
   "cell_type": "code",
   "execution_count": 10,
   "id": "ca72b68e",
   "metadata": {},
   "outputs": [
    {
     "data": {
      "text/plain": [
       "displacement    0.620411\n",
       "hp              0.210490\n",
       "weight          0.062547\n",
       "acceleration    0.080866\n",
       "origin_1        0.000093\n",
       "origin_2        0.007862\n",
       "origin_3        0.004859\n",
       "cylinders_3     0.000000\n",
       "cylinders_4     0.000037\n",
       "cylinders_5     0.001584\n",
       "cylinders_6     0.011253\n",
       "cylinders_8     0.000000\n",
       "dtype: float64"
      ]
     },
     "execution_count": 10,
     "metadata": {},
     "output_type": "execute_result"
    }
   ],
   "source": [
    "# feature that impact car mileage\n",
    "pd.Series(clf.feature_importances_, index=X.columns)"
   ]
  },
  {
   "cell_type": "markdown",
   "id": "77551c44",
   "metadata": {},
   "source": [
    "As seen, the top 4 variables that impact car mileage are engine \n",
    "1. displacement\n",
    "2. hp\n",
    "3. weigh\n",
    "4. acceleration"
   ]
  },
  {
   "cell_type": "code",
   "execution_count": 11,
   "id": "9cc773bd",
   "metadata": {},
   "outputs": [],
   "source": [
    "# Split data\n",
    "X_train, X_test, y_train, y_test = train_test_split(X, y, train_size=0.766, random_state=25)"
   ]
  },
  {
   "cell_type": "code",
   "execution_count": 12,
   "id": "4664da2b",
   "metadata": {},
   "outputs": [
    {
     "name": "stdout",
     "output_type": "stream",
     "text": [
      "(300, 12)\n",
      "(300,)\n",
      "(92, 12)\n",
      "(92,)\n"
     ]
    }
   ],
   "source": [
    "# Check shape\n",
    "print(X_train.shape)\n",
    "print(y_train.shape)\n",
    "print(X_test.shape)\n",
    "print(y_test.shape)"
   ]
  },
  {
   "cell_type": "code",
   "execution_count": 13,
   "id": "65976848",
   "metadata": {},
   "outputs": [
    {
     "name": "stdout",
     "output_type": "stream",
     "text": [
      "{'max_depth': 3, 'min_samples_split': 50}\n",
      "0.7144315314541173\n"
     ]
    }
   ],
   "source": [
    "# Initialize the model\n",
    "clf_after_split = DecisionTreeRegressor(random_state=42)\n",
    "\n",
    "# Use cross validation\n",
    "params = {'max_depth':range(1,11), 'min_samples_split':range(10,60,10)}\n",
    "\n",
    "# Create GridSearchCV object\n",
    "clf_gs_after_split = GridSearchCV(estimator=clf_after_split, cv=5, param_grid=params)\n",
    "\n",
    "# Fit\n",
    "clf_gs_after_split.fit(X_train, y_train)\n",
    "\n",
    "# Print best params and best score\n",
    "print(clf_gs_after_split.best_params_)\n",
    "print(clf_gs_after_split.best_score_)"
   ]
  },
  {
   "cell_type": "code",
   "execution_count": 14,
   "id": "897b9804",
   "metadata": {},
   "outputs": [
    {
     "data": {
      "text/plain": [
       "0.58824925936856"
      ]
     },
     "execution_count": 14,
     "metadata": {},
     "output_type": "execute_result"
    }
   ],
   "source": [
    "# Check score on test data\n",
    "clf_gs_after_split.score(X_test, y_test)"
   ]
  },
  {
   "cell_type": "markdown",
   "id": "7a9a40de",
   "metadata": {},
   "source": [
    "As seen, there is drastic reduction in the test score of the model."
   ]
  },
  {
   "cell_type": "code",
   "execution_count": 15,
   "id": "076d63c4",
   "metadata": {},
   "outputs": [
    {
     "data": {
      "text/plain": [
       "<AxesSubplot:xlabel='mpg', ylabel='Density'>"
      ]
     },
     "execution_count": 15,
     "metadata": {},
     "output_type": "execute_result"
    },
    {
     "data": {
      "image/png": "[encoded data removed]",
      "text/plain": [
       "<Figure size 432x288 with 1 Axes>"
      ]
     },
     "metadata": {
      "needs_background": "light"
     },
     "output_type": "display_data"
    }
   ],
   "source": [
    "# Lets check distribution of y\n",
    "sns.kdeplot(y)"
   ]
  },
  {
   "cell_type": "code",
   "execution_count": 16,
   "id": "a255f659",
   "metadata": {},
   "outputs": [
    {
     "data": {
      "text/plain": [
       "<matplotlib.legend.Legend at 0x7f86c0180c10>"
      ]
     },
     "execution_count": 16,
     "metadata": {},
     "output_type": "execute_result"
    },
    {
     "data": {
      "image/png": "[encoded data removed]",
      "text/plain": [
       "<Figure size 432x288 with 1 Axes>"
      ]
     },
     "metadata": {
      "needs_background": "light"
     },
     "output_type": "display_data"
    }
   ],
   "source": [
    "# Check the distribution of y on both train and test set\n",
    "sns.kdeplot(y_train, color='blue', label='Train')\n",
    "sns.kdeplot(y_test, color='green', label='Test')\n",
    "plt.legend()"
   ]
  },
  {
   "cell_type": "code",
   "execution_count": 17,
   "id": "5c324e32",
   "metadata": {},
   "outputs": [
    {
     "data": {
      "text/plain": [
       "GridSearchCV(cv=5, estimator=DecisionTreeRegressor(),\n",
       "             param_grid={'criterion': ['mse', 'friedman_mse', 'mae'],\n",
       "                         'max_depth': [5, 10, 15],\n",
       "                         'min_samples_leaf': [10, 15, 20],\n",
       "                         'min_samples_split': [5, 10, 15, 20]})"
      ]
     },
     "execution_count": 17,
     "metadata": {},
     "output_type": "execute_result"
    }
   ],
   "source": [
    "# Lets check 1 and 2\n",
    "X_train, X_test, y_train, y_test = train_test_split(X, y, test_size=0.25, random_state=1)\n",
    "\n",
    "params = {'min_samples_split' : [5,10,15,20],\n",
    "          'min_samples_leaf' : [10,15,20],\n",
    "          'max_depth' : [5,10,15],\n",
    "          'criterion' : ['mse', 'friedman_mse', 'mae']}\n",
    "\n",
    "clf_gs = GridSearchCV(DecisionTreeRegressor(), cv=5, param_grid=params)\n",
    "clf_gs.fit(X_train, y_train)"
   ]
  },
  {
   "cell_type": "code",
   "execution_count": 18,
   "id": "2d2543d0",
   "metadata": {},
   "outputs": [
    {
     "data": {
      "text/plain": [
       "({'criterion': 'mae',\n",
       "  'max_depth': 5,\n",
       "  'min_samples_leaf': 10,\n",
       "  'min_samples_split': 10},\n",
       " 0.7334069195260706)"
      ]
     },
     "execution_count": 18,
     "metadata": {},
     "output_type": "execute_result"
    }
   ],
   "source": [
    "clf_gs.best_params_, clf_gs.best_score_"
   ]
  },
  {
   "cell_type": "code",
   "execution_count": 19,
   "id": "8472cfef",
   "metadata": {},
   "outputs": [
    {
     "data": {
      "text/plain": [
       "0.6922149507908725"
      ]
     },
     "execution_count": 19,
     "metadata": {},
     "output_type": "execute_result"
    }
   ],
   "source": [
    "clf_gs.score(X_test, y_test)"
   ]
  },
  {
   "cell_type": "code",
   "execution_count": 20,
   "id": "0c5b0f4e",
   "metadata": {},
   "outputs": [
    {
     "data": {
      "image/png": "[encoded data removed]",
      "text/plain": [
       "<Figure size 432x288 with 1 Axes>"
      ]
     },
     "metadata": {
      "needs_background": "light"
     },
     "output_type": "display_data"
    }
   ],
   "source": [
    "# Lets check the distribution\n",
    "sns.kdeplot(y_train, color='green', label='Train')\n",
    "sns.kdeplot(y_test, color='red', label='Test')\n",
    "plt.legend()\n",
    "plt.show()"
   ]
  },
  {
   "cell_type": "markdown",
   "id": "fa8fba7c",
   "metadata": {},
   "source": [
    "With plot now almost similar, we can say that impact of outliers has been contained to a greater extent"
   ]
  }
 ],
 "metadata": {
  "kernelspec": {
   "display_name": "Python 3 (ipykernel)",
   "language": "python",
   "name": "python3"
  },
  "language_info": {
   "codemirror_mode": {
    "name": "ipython",
    "version": 3
   },
   "file_extension": ".py",
   "mimetype": "text/x-python",
   "name": "python",
   "nbconvert_exporter": "python",
   "pygments_lexer": "ipython3",
   "version": "3.9.7"
  }
 },
 "nbformat": 4,
 "nbformat_minor": 5
}
