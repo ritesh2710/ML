{
 "cells": [
  {
   "cell_type": "markdown",
   "id": "3f1a7138",
   "metadata": {},
   "source": [
    "\n",
    "Tree Based Models - Q09- 11/July\n",
    "===================================\n",
    "An optometrist prescribes type of contact lenses according to 4 features (age, prescription, astigmatism and tear production rate). The data is available in 02_lens_prescription.csv file here: https://drive.google.com/drive/folders/1Jl8iDu7nGmrqCECbrLqmVafgwE5PYfiU\n",
    "\n",
    "Calculate the Gini impurity index for each of the features. \n",
    "\n",
    "Note that age is an ordinal variable.\n",
    "\n",
    "Which feature indicates that contact lens should not be used?"
   ]
  },
  {
   "cell_type": "code",
   "execution_count": 1,
   "id": "09d6b64b",
   "metadata": {},
   "outputs": [],
   "source": [
    "# Import libraries\n",
    "import numpy as np\n",
    "import pandas as pd\n",
    "import matplotlib.pyplot as plt\n",
    "\n",
    "from sklearn import tree\n",
    "\n",
    "import warnings\n",
    "warnings.filterwarnings(\"ignore\")"
   ]
  },
  {
   "cell_type": "code",
   "execution_count": 2,
   "id": "7dc74623",
   "metadata": {},
   "outputs": [
    {
     "data": {
      "text/html": [
       "<div>\n",
       "<style scoped>\n",
       "    .dataframe tbody tr th:only-of-type {\n",
       "        vertical-align: middle;\n",
       "    }\n",
       "\n",
       "    .dataframe tbody tr th {\n",
       "        vertical-align: top;\n",
       "    }\n",
       "\n",
       "    .dataframe thead th {\n",
       "        text-align: right;\n",
       "    }\n",
       "</style>\n",
       "<table border=\"1\" class=\"dataframe\">\n",
       "  <thead>\n",
       "    <tr style=\"text-align: right;\">\n",
       "      <th></th>\n",
       "      <th>S No</th>\n",
       "      <th>Age</th>\n",
       "      <th>Prescription</th>\n",
       "      <th>Astigmatism</th>\n",
       "      <th>Tear production rate</th>\n",
       "      <th>Contact_lens</th>\n",
       "    </tr>\n",
       "  </thead>\n",
       "  <tbody>\n",
       "    <tr>\n",
       "      <th>0</th>\n",
       "      <td>1</td>\n",
       "      <td>1</td>\n",
       "      <td>myope</td>\n",
       "      <td>no</td>\n",
       "      <td>reduced</td>\n",
       "      <td>no lens</td>\n",
       "    </tr>\n",
       "    <tr>\n",
       "      <th>1</th>\n",
       "      <td>2</td>\n",
       "      <td>1</td>\n",
       "      <td>myope</td>\n",
       "      <td>no</td>\n",
       "      <td>normal</td>\n",
       "      <td>soft</td>\n",
       "    </tr>\n",
       "    <tr>\n",
       "      <th>2</th>\n",
       "      <td>3</td>\n",
       "      <td>1</td>\n",
       "      <td>myope</td>\n",
       "      <td>yes</td>\n",
       "      <td>reduced</td>\n",
       "      <td>no lens</td>\n",
       "    </tr>\n",
       "    <tr>\n",
       "      <th>3</th>\n",
       "      <td>4</td>\n",
       "      <td>1</td>\n",
       "      <td>myope</td>\n",
       "      <td>yes</td>\n",
       "      <td>normal</td>\n",
       "      <td>hard</td>\n",
       "    </tr>\n",
       "    <tr>\n",
       "      <th>4</th>\n",
       "      <td>5</td>\n",
       "      <td>1</td>\n",
       "      <td>hypermetrope</td>\n",
       "      <td>no</td>\n",
       "      <td>reduced</td>\n",
       "      <td>no lens</td>\n",
       "    </tr>\n",
       "  </tbody>\n",
       "</table>\n",
       "</div>"
      ],
      "text/plain": [
       "   S No  Age  Prescription Astigmatism Tear production rate Contact_lens\n",
       "0     1    1         myope          no              reduced      no lens\n",
       "1     2    1         myope          no               normal         soft\n",
       "2     3    1         myope         yes              reduced      no lens\n",
       "3     4    1         myope         yes               normal         hard\n",
       "4     5    1  hypermetrope          no              reduced      no lens"
      ]
     },
     "execution_count": 2,
     "metadata": {},
     "output_type": "execute_result"
    }
   ],
   "source": [
    "# Read and display the data file\n",
    "lens_data = pd.read_csv('/Users/riteshturlapaty/ai-ml-learning/AccelerateAI/7.DecisionTree/DailyQuiz/02_lens_prescription.csv')\n",
    "lens_data.head(5)"
   ]
  },
  {
   "cell_type": "code",
   "execution_count": 3,
   "id": "6174c4e7",
   "metadata": {},
   "outputs": [
    {
     "data": {
      "text/plain": [
       "(24, 6)"
      ]
     },
     "execution_count": 3,
     "metadata": {},
     "output_type": "execute_result"
    }
   ],
   "source": [
    "lens_data.shape"
   ]
  },
  {
   "cell_type": "code",
   "execution_count": 4,
   "id": "2aa0f2f1",
   "metadata": {},
   "outputs": [
    {
     "data": {
      "text/plain": [
       "no lens    15\n",
       "soft        5\n",
       "hard        4\n",
       "Name: Contact_lens, dtype: int64"
      ]
     },
     "execution_count": 4,
     "metadata": {},
     "output_type": "execute_result"
    }
   ],
   "source": [
    "lens_data.Contact_lens.value_counts()"
   ]
  },
  {
   "cell_type": "code",
   "execution_count": 5,
   "id": "3d2a20a1",
   "metadata": {},
   "outputs": [],
   "source": [
    "# Assign the target column to a new dataframe\n",
    "df=lens_data['Contact_lens']\n",
    "target= pd.DataFrame(df, columns=['Contact_lens'])"
   ]
  },
  {
   "cell_type": "code",
   "execution_count": 6,
   "id": "bcb70446",
   "metadata": {},
   "outputs": [],
   "source": [
    "#Drop Contact_lens (target) column from lens_data dataframe\n",
    "lens_data.drop(columns=['Contact_lens','S No'],axis=1, inplace=True)"
   ]
  },
  {
   "cell_type": "code",
   "execution_count": 7,
   "id": "498c7ec8",
   "metadata": {},
   "outputs": [],
   "source": [
    "# Create dummy values to feed the values into tree model\n",
    "dummy_lens_data=pd.get_dummies(lens_data)"
   ]
  },
  {
   "cell_type": "code",
   "execution_count": 8,
   "id": "92dbf848",
   "metadata": {},
   "outputs": [
    {
     "data": {
      "text/html": [
       "<div>\n",
       "<style scoped>\n",
       "    .dataframe tbody tr th:only-of-type {\n",
       "        vertical-align: middle;\n",
       "    }\n",
       "\n",
       "    .dataframe tbody tr th {\n",
       "        vertical-align: top;\n",
       "    }\n",
       "\n",
       "    .dataframe thead th {\n",
       "        text-align: right;\n",
       "    }\n",
       "</style>\n",
       "<table border=\"1\" class=\"dataframe\">\n",
       "  <thead>\n",
       "    <tr style=\"text-align: right;\">\n",
       "      <th></th>\n",
       "      <th>Age</th>\n",
       "      <th>Prescription_hypermetrope</th>\n",
       "      <th>Prescription_myope</th>\n",
       "      <th>Astigmatism_no</th>\n",
       "      <th>Astigmatism_yes</th>\n",
       "      <th>Tear production rate_normal</th>\n",
       "      <th>Tear production rate_reduced</th>\n",
       "    </tr>\n",
       "  </thead>\n",
       "  <tbody>\n",
       "    <tr>\n",
       "      <th>0</th>\n",
       "      <td>1</td>\n",
       "      <td>0</td>\n",
       "      <td>1</td>\n",
       "      <td>1</td>\n",
       "      <td>0</td>\n",
       "      <td>0</td>\n",
       "      <td>1</td>\n",
       "    </tr>\n",
       "    <tr>\n",
       "      <th>1</th>\n",
       "      <td>1</td>\n",
       "      <td>0</td>\n",
       "      <td>1</td>\n",
       "      <td>1</td>\n",
       "      <td>0</td>\n",
       "      <td>1</td>\n",
       "      <td>0</td>\n",
       "    </tr>\n",
       "  </tbody>\n",
       "</table>\n",
       "</div>"
      ],
      "text/plain": [
       "   Age  Prescription_hypermetrope  Prescription_myope  Astigmatism_no  \\\n",
       "0    1                          0                   1               1   \n",
       "1    1                          0                   1               1   \n",
       "\n",
       "   Astigmatism_yes  Tear production rate_normal  Tear production rate_reduced  \n",
       "0                0                            0                             1  \n",
       "1                0                            1                             0  "
      ]
     },
     "execution_count": 8,
     "metadata": {},
     "output_type": "execute_result"
    }
   ],
   "source": [
    "dummy_lens_data.head(2)"
   ]
  },
  {
   "cell_type": "code",
   "execution_count": 9,
   "id": "313d460e",
   "metadata": {},
   "outputs": [],
   "source": [
    "X = dummy_lens_data\n",
    "y = target['Contact_lens']\n",
    "\n",
    "clf = tree.DecisionTreeClassifier(criterion='gini')\n",
    "clf = clf.fit(X,y)"
   ]
  },
  {
   "cell_type": "code",
   "execution_count": 10,
   "id": "58314e64",
   "metadata": {},
   "outputs": [
    {
     "data": {
      "text/plain": [
       "[Ellipsis]"
      ]
     },
     "execution_count": 10,
     "metadata": {},
     "output_type": "execute_result"
    },
    {
     "data": {
      "image/png": "[encoded data removed]",
      "text/plain": [
       "<Figure size 720x720 with 1 Axes>"
      ]
     },
     "metadata": {
      "needs_background": "light"
     },
     "output_type": "display_data"
    }
   ],
   "source": [
    "plt.figure(figsize=(10,10))\n",
    "tree.plot_tree(clf)\n",
    "[...]"
   ]
  },
  {
   "cell_type": "markdown",
   "id": "ad41e12b",
   "metadata": {},
   "source": [
    "x[6] = Tear production rate_reduced\n",
    "\n",
    "As evident, when Tear production rate_reduced is > 0.5, impurity index is 0."
   ]
  }
 ],
 "metadata": {
  "kernelspec": {
   "display_name": "Python 3 (ipykernel)",
   "language": "python",
   "name": "python3"
  },
  "language_info": {
   "codemirror_mode": {
    "name": "ipython",
    "version": 3
   },
   "file_extension": ".py",
   "mimetype": "text/x-python",
   "name": "python",
   "nbconvert_exporter": "python",
   "pygments_lexer": "ipython3",
   "version": "3.9.7"
  }
 },
 "nbformat": 4,
 "nbformat_minor": 5
}
